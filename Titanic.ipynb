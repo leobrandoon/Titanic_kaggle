{
 "cells": [
  {
   "cell_type": "markdown",
   "metadata": {},
   "source": [
    "# <center> <h1> Titanic para Data Science</h1> </center>\n",
    " # <center> <h1>vive o muere </h1> </center>\n",
    "\n",
    "**********  \n",
    "\n",
    "El trabajo consiste en desarrollar un algoritmo con el que podamos predecir si el la probabilidad que una persona halla muerto en el Titanic, o tal vez poder saber si Jack realmente debio morir segun los datos del naufragio. Para lograr este objetivo, usaréis un conjunto de datos de la lista de pasajeros para poder analizar las variables necesarias y construir el modelo de machine learning que nos ayudará a validar los supuesto.\n",
    "\n",
    "**Instrucciones:**\n",
    "- Se usará el lenguaje de programación Python 3.\n",
    "- Se usarán las librerías de python: Pandas, MatPlotLib, Numpy, Scikit-learn.\n",
    "\n",
    "**Mediante este ejercicio, aprenderemos:**\n",
    "- Entender y ejecutar Notebooks con Python.\n",
    "- Ser capaz de utilizar funciones de Python y librerías adicionales.\n",
    "- Dataset:\n",
    " - Obtener el dataset y previsualizar la información del dataset.\n",
    " - Representar y analizar la información del dataset.\n",
    "- Crear y entender el concepto de \"*Conjunto de datos de entrenamiento*\" y \"*Conjuntos de datos de test*\"\n",
    "- Crear y entender el concepto de \"*Clasificador*\" para analizar los datos,  predecir y obtener conclusiones.\n",
    "- Mejorar la predicción.\n",
    "\n",
    "\n",
    "\n",
    "¡Te animas!\n",
    "\n",
    "leo.gonzlez11@gmail.com"
   ]
  },
  {
   "cell_type": "markdown",
   "metadata": {},
   "source": [
    "## **1. Importa las librerías necesarias**"
   ]
  },
  {
   "cell_type": "code",
   "execution_count": 1,
   "metadata": {},
   "outputs": [],
   "source": [
    "#importamos algunas librerias \n",
    "import pandas as pd\n",
    "import numpy as np\n",
    "import matplotlib.pyplot as plt\n",
    "import seaborn as sns"
   ]
  },
  {
   "cell_type": "code",
   "execution_count": 2,
   "metadata": {},
   "outputs": [],
   "source": [
    "#importamos los datos pasamos el id de pasajero como index\n",
    "train = pd.read_csv(r'data\\train.csv')\n",
    "test = pd.read_csv(r'data\\test.csv')"
   ]
  },
  {
   "cell_type": "code",
   "execution_count": 3,
   "metadata": {},
   "outputs": [
    {
     "data": {
      "text/html": [
       "<div>\n",
       "<style scoped>\n",
       "    .dataframe tbody tr th:only-of-type {\n",
       "        vertical-align: middle;\n",
       "    }\n",
       "\n",
       "    .dataframe tbody tr th {\n",
       "        vertical-align: top;\n",
       "    }\n",
       "\n",
       "    .dataframe thead th {\n",
       "        text-align: right;\n",
       "    }\n",
       "</style>\n",
       "<table border=\"1\" class=\"dataframe\">\n",
       "  <thead>\n",
       "    <tr style=\"text-align: right;\">\n",
       "      <th></th>\n",
       "      <th>PassengerId</th>\n",
       "      <th>Survived</th>\n",
       "      <th>Pclass</th>\n",
       "      <th>Name</th>\n",
       "      <th>Sex</th>\n",
       "      <th>Age</th>\n",
       "      <th>SibSp</th>\n",
       "      <th>Parch</th>\n",
       "      <th>Ticket</th>\n",
       "      <th>Fare</th>\n",
       "      <th>Cabin</th>\n",
       "      <th>Embarked</th>\n",
       "    </tr>\n",
       "  </thead>\n",
       "  <tbody>\n",
       "    <tr>\n",
       "      <th>0</th>\n",
       "      <td>1</td>\n",
       "      <td>0</td>\n",
       "      <td>3</td>\n",
       "      <td>Braund, Mr. Owen Harris</td>\n",
       "      <td>male</td>\n",
       "      <td>22.0</td>\n",
       "      <td>1</td>\n",
       "      <td>0</td>\n",
       "      <td>A/5 21171</td>\n",
       "      <td>7.2500</td>\n",
       "      <td>NaN</td>\n",
       "      <td>S</td>\n",
       "    </tr>\n",
       "    <tr>\n",
       "      <th>1</th>\n",
       "      <td>2</td>\n",
       "      <td>1</td>\n",
       "      <td>1</td>\n",
       "      <td>Cumings, Mrs. John Bradley (Florence Briggs Th...</td>\n",
       "      <td>female</td>\n",
       "      <td>38.0</td>\n",
       "      <td>1</td>\n",
       "      <td>0</td>\n",
       "      <td>PC 17599</td>\n",
       "      <td>71.2833</td>\n",
       "      <td>C85</td>\n",
       "      <td>C</td>\n",
       "    </tr>\n",
       "    <tr>\n",
       "      <th>2</th>\n",
       "      <td>3</td>\n",
       "      <td>1</td>\n",
       "      <td>3</td>\n",
       "      <td>Heikkinen, Miss. Laina</td>\n",
       "      <td>female</td>\n",
       "      <td>26.0</td>\n",
       "      <td>0</td>\n",
       "      <td>0</td>\n",
       "      <td>STON/O2. 3101282</td>\n",
       "      <td>7.9250</td>\n",
       "      <td>NaN</td>\n",
       "      <td>S</td>\n",
       "    </tr>\n",
       "    <tr>\n",
       "      <th>3</th>\n",
       "      <td>4</td>\n",
       "      <td>1</td>\n",
       "      <td>1</td>\n",
       "      <td>Futrelle, Mrs. Jacques Heath (Lily May Peel)</td>\n",
       "      <td>female</td>\n",
       "      <td>35.0</td>\n",
       "      <td>1</td>\n",
       "      <td>0</td>\n",
       "      <td>113803</td>\n",
       "      <td>53.1000</td>\n",
       "      <td>C123</td>\n",
       "      <td>S</td>\n",
       "    </tr>\n",
       "    <tr>\n",
       "      <th>4</th>\n",
       "      <td>5</td>\n",
       "      <td>0</td>\n",
       "      <td>3</td>\n",
       "      <td>Allen, Mr. William Henry</td>\n",
       "      <td>male</td>\n",
       "      <td>35.0</td>\n",
       "      <td>0</td>\n",
       "      <td>0</td>\n",
       "      <td>373450</td>\n",
       "      <td>8.0500</td>\n",
       "      <td>NaN</td>\n",
       "      <td>S</td>\n",
       "    </tr>\n",
       "    <tr>\n",
       "      <th>5</th>\n",
       "      <td>6</td>\n",
       "      <td>0</td>\n",
       "      <td>3</td>\n",
       "      <td>Moran, Mr. James</td>\n",
       "      <td>male</td>\n",
       "      <td>NaN</td>\n",
       "      <td>0</td>\n",
       "      <td>0</td>\n",
       "      <td>330877</td>\n",
       "      <td>8.4583</td>\n",
       "      <td>NaN</td>\n",
       "      <td>Q</td>\n",
       "    </tr>\n",
       "    <tr>\n",
       "      <th>6</th>\n",
       "      <td>7</td>\n",
       "      <td>0</td>\n",
       "      <td>1</td>\n",
       "      <td>McCarthy, Mr. Timothy J</td>\n",
       "      <td>male</td>\n",
       "      <td>54.0</td>\n",
       "      <td>0</td>\n",
       "      <td>0</td>\n",
       "      <td>17463</td>\n",
       "      <td>51.8625</td>\n",
       "      <td>E46</td>\n",
       "      <td>S</td>\n",
       "    </tr>\n",
       "    <tr>\n",
       "      <th>7</th>\n",
       "      <td>8</td>\n",
       "      <td>0</td>\n",
       "      <td>3</td>\n",
       "      <td>Palsson, Master. Gosta Leonard</td>\n",
       "      <td>male</td>\n",
       "      <td>2.0</td>\n",
       "      <td>3</td>\n",
       "      <td>1</td>\n",
       "      <td>349909</td>\n",
       "      <td>21.0750</td>\n",
       "      <td>NaN</td>\n",
       "      <td>S</td>\n",
       "    </tr>\n",
       "    <tr>\n",
       "      <th>8</th>\n",
       "      <td>9</td>\n",
       "      <td>1</td>\n",
       "      <td>3</td>\n",
       "      <td>Johnson, Mrs. Oscar W (Elisabeth Vilhelmina Berg)</td>\n",
       "      <td>female</td>\n",
       "      <td>27.0</td>\n",
       "      <td>0</td>\n",
       "      <td>2</td>\n",
       "      <td>347742</td>\n",
       "      <td>11.1333</td>\n",
       "      <td>NaN</td>\n",
       "      <td>S</td>\n",
       "    </tr>\n",
       "    <tr>\n",
       "      <th>9</th>\n",
       "      <td>10</td>\n",
       "      <td>1</td>\n",
       "      <td>2</td>\n",
       "      <td>Nasser, Mrs. Nicholas (Adele Achem)</td>\n",
       "      <td>female</td>\n",
       "      <td>14.0</td>\n",
       "      <td>1</td>\n",
       "      <td>0</td>\n",
       "      <td>237736</td>\n",
       "      <td>30.0708</td>\n",
       "      <td>NaN</td>\n",
       "      <td>C</td>\n",
       "    </tr>\n",
       "  </tbody>\n",
       "</table>\n",
       "</div>"
      ],
      "text/plain": [
       "   PassengerId  Survived  Pclass  \\\n",
       "0            1         0       3   \n",
       "1            2         1       1   \n",
       "2            3         1       3   \n",
       "3            4         1       1   \n",
       "4            5         0       3   \n",
       "5            6         0       3   \n",
       "6            7         0       1   \n",
       "7            8         0       3   \n",
       "8            9         1       3   \n",
       "9           10         1       2   \n",
       "\n",
       "                                                Name     Sex   Age  SibSp  \\\n",
       "0                            Braund, Mr. Owen Harris    male  22.0      1   \n",
       "1  Cumings, Mrs. John Bradley (Florence Briggs Th...  female  38.0      1   \n",
       "2                             Heikkinen, Miss. Laina  female  26.0      0   \n",
       "3       Futrelle, Mrs. Jacques Heath (Lily May Peel)  female  35.0      1   \n",
       "4                           Allen, Mr. William Henry    male  35.0      0   \n",
       "5                                   Moran, Mr. James    male   NaN      0   \n",
       "6                            McCarthy, Mr. Timothy J    male  54.0      0   \n",
       "7                     Palsson, Master. Gosta Leonard    male   2.0      3   \n",
       "8  Johnson, Mrs. Oscar W (Elisabeth Vilhelmina Berg)  female  27.0      0   \n",
       "9                Nasser, Mrs. Nicholas (Adele Achem)  female  14.0      1   \n",
       "\n",
       "   Parch            Ticket     Fare Cabin Embarked  \n",
       "0      0         A/5 21171   7.2500   NaN        S  \n",
       "1      0          PC 17599  71.2833   C85        C  \n",
       "2      0  STON/O2. 3101282   7.9250   NaN        S  \n",
       "3      0            113803  53.1000  C123        S  \n",
       "4      0            373450   8.0500   NaN        S  \n",
       "5      0            330877   8.4583   NaN        Q  \n",
       "6      0             17463  51.8625   E46        S  \n",
       "7      1            349909  21.0750   NaN        S  \n",
       "8      2            347742  11.1333   NaN        S  \n",
       "9      0            237736  30.0708   NaN        C  "
      ]
     },
     "execution_count": 3,
     "metadata": {},
     "output_type": "execute_result"
    }
   ],
   "source": [
    "train.head(10)"
   ]
  },
  {
   "cell_type": "markdown",
   "metadata": {},
   "source": [
    "## **2. creamos un diccionario**"
   ]
  },
  {
   "cell_type": "markdown",
   "metadata": {},
   "source": [
    "Utizaremos el set Train, que contiene el dato de si el pasajero sobrevivio o no\n",
    "\n",
    "- passengerId : ID del pasajero abordo\n",
    "\n",
    "- survival : Sí la persona sobrevivió o no el accidente\n",
    "\n",
    "- pclase : Tipo de Ticket, e.g., 1ra, 2da, 3ra\n",
    "\n",
    "- gender : Género del pasajero: Masculino o femenino\n",
    "\n",
    "- name : Título incluído\n",
    "\n",
    "- age : Edad en anos\n",
    "\n",
    "- sibsp : Número de parientes/cónyuges abordo del Titanic\n",
    "\n",
    "- parch : Número de padres/hijos abordo del Titanic\n",
    "\n",
    "- ticket : Número Ticket\n",
    "\n",
    "- fare : Costo pasaje\n",
    "\n",
    "- cabin : Número cabina\n",
    "\n",
    "- embarked : Puerto de embarcación"
   ]
  },
  {
   "cell_type": "markdown",
   "metadata": {},
   "source": [
    "## **3. verificamos los datos disponibles**"
   ]
  },
  {
   "cell_type": "code",
   "execution_count": 4,
   "metadata": {
    "scrolled": false
   },
   "outputs": [
    {
     "name": "stdout",
     "output_type": "stream",
     "text": [
      "<class 'pandas.core.frame.DataFrame'>\n",
      "RangeIndex: 891 entries, 0 to 890\n",
      "Data columns (total 12 columns):\n",
      " #   Column       Non-Null Count  Dtype  \n",
      "---  ------       --------------  -----  \n",
      " 0   PassengerId  891 non-null    int64  \n",
      " 1   Survived     891 non-null    int64  \n",
      " 2   Pclass       891 non-null    int64  \n",
      " 3   Name         891 non-null    object \n",
      " 4   Sex          891 non-null    object \n",
      " 5   Age          714 non-null    float64\n",
      " 6   SibSp        891 non-null    int64  \n",
      " 7   Parch        891 non-null    int64  \n",
      " 8   Ticket       891 non-null    object \n",
      " 9   Fare         891 non-null    float64\n",
      " 10  Cabin        204 non-null    object \n",
      " 11  Embarked     889 non-null    object \n",
      "dtypes: float64(2), int64(5), object(5)\n",
      "memory usage: 83.7+ KB\n"
     ]
    }
   ],
   "source": [
    "train.info()"
   ]
  },
  {
   "cell_type": "markdown",
   "metadata": {},
   "source": [
    "R// Podemos observar que el total de filas es de 891, ademas que **Age, Cabin y Embarked** contiene datos nulos, los que debemos revisar"
   ]
  },
  {
   "cell_type": "code",
   "execution_count": 5,
   "metadata": {},
   "outputs": [
    {
     "data": {
      "text/html": [
       "<div>\n",
       "<style scoped>\n",
       "    .dataframe tbody tr th:only-of-type {\n",
       "        vertical-align: middle;\n",
       "    }\n",
       "\n",
       "    .dataframe tbody tr th {\n",
       "        vertical-align: top;\n",
       "    }\n",
       "\n",
       "    .dataframe thead th {\n",
       "        text-align: right;\n",
       "    }\n",
       "</style>\n",
       "<table border=\"1\" class=\"dataframe\">\n",
       "  <thead>\n",
       "    <tr style=\"text-align: right;\">\n",
       "      <th></th>\n",
       "      <th>PassengerId</th>\n",
       "      <th>Survived</th>\n",
       "      <th>Pclass</th>\n",
       "      <th>Age</th>\n",
       "      <th>SibSp</th>\n",
       "      <th>Parch</th>\n",
       "      <th>Fare</th>\n",
       "    </tr>\n",
       "  </thead>\n",
       "  <tbody>\n",
       "    <tr>\n",
       "      <th>count</th>\n",
       "      <td>891.000000</td>\n",
       "      <td>891.000000</td>\n",
       "      <td>891.000000</td>\n",
       "      <td>714.000000</td>\n",
       "      <td>891.000000</td>\n",
       "      <td>891.000000</td>\n",
       "      <td>891.000000</td>\n",
       "    </tr>\n",
       "    <tr>\n",
       "      <th>mean</th>\n",
       "      <td>446.000000</td>\n",
       "      <td>0.383838</td>\n",
       "      <td>2.308642</td>\n",
       "      <td>29.699118</td>\n",
       "      <td>0.523008</td>\n",
       "      <td>0.381594</td>\n",
       "      <td>32.204208</td>\n",
       "    </tr>\n",
       "    <tr>\n",
       "      <th>std</th>\n",
       "      <td>257.353842</td>\n",
       "      <td>0.486592</td>\n",
       "      <td>0.836071</td>\n",
       "      <td>14.526497</td>\n",
       "      <td>1.102743</td>\n",
       "      <td>0.806057</td>\n",
       "      <td>49.693429</td>\n",
       "    </tr>\n",
       "    <tr>\n",
       "      <th>min</th>\n",
       "      <td>1.000000</td>\n",
       "      <td>0.000000</td>\n",
       "      <td>1.000000</td>\n",
       "      <td>0.420000</td>\n",
       "      <td>0.000000</td>\n",
       "      <td>0.000000</td>\n",
       "      <td>0.000000</td>\n",
       "    </tr>\n",
       "    <tr>\n",
       "      <th>25%</th>\n",
       "      <td>223.500000</td>\n",
       "      <td>0.000000</td>\n",
       "      <td>2.000000</td>\n",
       "      <td>20.125000</td>\n",
       "      <td>0.000000</td>\n",
       "      <td>0.000000</td>\n",
       "      <td>7.910400</td>\n",
       "    </tr>\n",
       "    <tr>\n",
       "      <th>50%</th>\n",
       "      <td>446.000000</td>\n",
       "      <td>0.000000</td>\n",
       "      <td>3.000000</td>\n",
       "      <td>28.000000</td>\n",
       "      <td>0.000000</td>\n",
       "      <td>0.000000</td>\n",
       "      <td>14.454200</td>\n",
       "    </tr>\n",
       "    <tr>\n",
       "      <th>75%</th>\n",
       "      <td>668.500000</td>\n",
       "      <td>1.000000</td>\n",
       "      <td>3.000000</td>\n",
       "      <td>38.000000</td>\n",
       "      <td>1.000000</td>\n",
       "      <td>0.000000</td>\n",
       "      <td>31.000000</td>\n",
       "    </tr>\n",
       "    <tr>\n",
       "      <th>max</th>\n",
       "      <td>891.000000</td>\n",
       "      <td>1.000000</td>\n",
       "      <td>3.000000</td>\n",
       "      <td>80.000000</td>\n",
       "      <td>8.000000</td>\n",
       "      <td>6.000000</td>\n",
       "      <td>512.329200</td>\n",
       "    </tr>\n",
       "  </tbody>\n",
       "</table>\n",
       "</div>"
      ],
      "text/plain": [
       "       PassengerId    Survived      Pclass         Age       SibSp  \\\n",
       "count   891.000000  891.000000  891.000000  714.000000  891.000000   \n",
       "mean    446.000000    0.383838    2.308642   29.699118    0.523008   \n",
       "std     257.353842    0.486592    0.836071   14.526497    1.102743   \n",
       "min       1.000000    0.000000    1.000000    0.420000    0.000000   \n",
       "25%     223.500000    0.000000    2.000000   20.125000    0.000000   \n",
       "50%     446.000000    0.000000    3.000000   28.000000    0.000000   \n",
       "75%     668.500000    1.000000    3.000000   38.000000    1.000000   \n",
       "max     891.000000    1.000000    3.000000   80.000000    8.000000   \n",
       "\n",
       "            Parch        Fare  \n",
       "count  891.000000  891.000000  \n",
       "mean     0.381594   32.204208  \n",
       "std      0.806057   49.693429  \n",
       "min      0.000000    0.000000  \n",
       "25%      0.000000    7.910400  \n",
       "50%      0.000000   14.454200  \n",
       "75%      0.000000   31.000000  \n",
       "max      6.000000  512.329200  "
      ]
     },
     "execution_count": 5,
     "metadata": {},
     "output_type": "execute_result"
    }
   ],
   "source": [
    "#algunas descripciones de las variables numericas.\n",
    "train.describe()"
   ]
  },
  {
   "cell_type": "markdown",
   "metadata": {},
   "source": [
    "R// Si observamos la edad de los pasajeros podemos destacar que las personas que viajaban en el barco era bastante joven, la edad maxima era de 80 años y su minino entorno a cero (recien nacidos o lactantes), por otro lado el 75% de los pasajeros no superaba los 38 año de edad y el 50% no sobrepasaba los 28 años.\n",
    "\n",
    "Por otro lado podemos ver que el ticket mas caro tuvo un valor cercano a los USD 512 y el munimo fue 0, lo que podria explicar que algunos pasajeros no tuvieron que pagar por su pasaje. (jack se dice se lo gano en una apuesta). Por lado la Desv Standar del precio es de u$49 con una media de USD 32"
   ]
  },
  {
   "cell_type": "code",
   "execution_count": 6,
   "metadata": {},
   "outputs": [
    {
     "data": {
      "text/html": [
       "<style  type=\"text/css\" >\n",
       "#T_9a5cc6a0_9d9c_11eb_9a3b_409f383a27f6row0_col0,#T_9a5cc6a0_9d9c_11eb_9a3b_409f383a27f6row0_col1,#T_9a5cc6a0_9d9c_11eb_9a3b_409f383a27f6row0_col2,#T_9a5cc6a0_9d9c_11eb_9a3b_409f383a27f6row0_col3,#T_9a5cc6a0_9d9c_11eb_9a3b_409f383a27f6row0_col4,#T_9a5cc6a0_9d9c_11eb_9a3b_409f383a27f6row0_col5,#T_9a5cc6a0_9d9c_11eb_9a3b_409f383a27f6row0_col6,#T_9a5cc6a0_9d9c_11eb_9a3b_409f383a27f6row7_col0{\n",
       "            background-color:  #b40426;\n",
       "            color:  #f1f1f1;\n",
       "        }#T_9a5cc6a0_9d9c_11eb_9a3b_409f383a27f6row1_col0,#T_9a5cc6a0_9d9c_11eb_9a3b_409f383a27f6row5_col0{\n",
       "            background-color:  #dddcdc;\n",
       "            color:  #000000;\n",
       "        }#T_9a5cc6a0_9d9c_11eb_9a3b_409f383a27f6row1_col1,#T_9a5cc6a0_9d9c_11eb_9a3b_409f383a27f6row1_col2,#T_9a5cc6a0_9d9c_11eb_9a3b_409f383a27f6row1_col4,#T_9a5cc6a0_9d9c_11eb_9a3b_409f383a27f6row1_col5,#T_9a5cc6a0_9d9c_11eb_9a3b_409f383a27f6row2_col1,#T_9a5cc6a0_9d9c_11eb_9a3b_409f383a27f6row2_col2,#T_9a5cc6a0_9d9c_11eb_9a3b_409f383a27f6row2_col4,#T_9a5cc6a0_9d9c_11eb_9a3b_409f383a27f6row2_col5,#T_9a5cc6a0_9d9c_11eb_9a3b_409f383a27f6row3_col0,#T_9a5cc6a0_9d9c_11eb_9a3b_409f383a27f6row3_col1,#T_9a5cc6a0_9d9c_11eb_9a3b_409f383a27f6row3_col2,#T_9a5cc6a0_9d9c_11eb_9a3b_409f383a27f6row3_col3,#T_9a5cc6a0_9d9c_11eb_9a3b_409f383a27f6row3_col4,#T_9a5cc6a0_9d9c_11eb_9a3b_409f383a27f6row3_col5,#T_9a5cc6a0_9d9c_11eb_9a3b_409f383a27f6row3_col6,#T_9a5cc6a0_9d9c_11eb_9a3b_409f383a27f6row4_col1,#T_9a5cc6a0_9d9c_11eb_9a3b_409f383a27f6row4_col2,#T_9a5cc6a0_9d9c_11eb_9a3b_409f383a27f6row4_col4,#T_9a5cc6a0_9d9c_11eb_9a3b_409f383a27f6row4_col5,#T_9a5cc6a0_9d9c_11eb_9a3b_409f383a27f6row5_col1,#T_9a5cc6a0_9d9c_11eb_9a3b_409f383a27f6row5_col2,#T_9a5cc6a0_9d9c_11eb_9a3b_409f383a27f6row5_col4,#T_9a5cc6a0_9d9c_11eb_9a3b_409f383a27f6row5_col5,#T_9a5cc6a0_9d9c_11eb_9a3b_409f383a27f6row6_col1,#T_9a5cc6a0_9d9c_11eb_9a3b_409f383a27f6row6_col2,#T_9a5cc6a0_9d9c_11eb_9a3b_409f383a27f6row6_col4,#T_9a5cc6a0_9d9c_11eb_9a3b_409f383a27f6row6_col5,#T_9a5cc6a0_9d9c_11eb_9a3b_409f383a27f6row7_col1,#T_9a5cc6a0_9d9c_11eb_9a3b_409f383a27f6row7_col2{\n",
       "            background-color:  #3b4cc0;\n",
       "            color:  #f1f1f1;\n",
       "        }#T_9a5cc6a0_9d9c_11eb_9a3b_409f383a27f6row1_col3{\n",
       "            background-color:  #465ecf;\n",
       "            color:  #f1f1f1;\n",
       "        }#T_9a5cc6a0_9d9c_11eb_9a3b_409f383a27f6row1_col6,#T_9a5cc6a0_9d9c_11eb_9a3b_409f383a27f6row5_col3{\n",
       "            background-color:  #455cce;\n",
       "            color:  #f1f1f1;\n",
       "        }#T_9a5cc6a0_9d9c_11eb_9a3b_409f383a27f6row2_col0{\n",
       "            background-color:  #9abbff;\n",
       "            color:  #000000;\n",
       "        }#T_9a5cc6a0_9d9c_11eb_9a3b_409f383a27f6row2_col3{\n",
       "            background-color:  #4055c8;\n",
       "            color:  #f1f1f1;\n",
       "        }#T_9a5cc6a0_9d9c_11eb_9a3b_409f383a27f6row2_col6{\n",
       "            background-color:  #4b64d5;\n",
       "            color:  #f1f1f1;\n",
       "        }#T_9a5cc6a0_9d9c_11eb_9a3b_409f383a27f6row4_col0{\n",
       "            background-color:  #8db0fe;\n",
       "            color:  #000000;\n",
       "        }#T_9a5cc6a0_9d9c_11eb_9a3b_409f383a27f6row4_col3{\n",
       "            background-color:  #4358cb;\n",
       "            color:  #f1f1f1;\n",
       "        }#T_9a5cc6a0_9d9c_11eb_9a3b_409f383a27f6row4_col6,#T_9a5cc6a0_9d9c_11eb_9a3b_409f383a27f6row7_col4{\n",
       "            background-color:  #3d50c3;\n",
       "            color:  #f1f1f1;\n",
       "        }#T_9a5cc6a0_9d9c_11eb_9a3b_409f383a27f6row5_col6{\n",
       "            background-color:  #3f53c6;\n",
       "            color:  #f1f1f1;\n",
       "        }#T_9a5cc6a0_9d9c_11eb_9a3b_409f383a27f6row6_col0{\n",
       "            background-color:  #f4987a;\n",
       "            color:  #000000;\n",
       "        }#T_9a5cc6a0_9d9c_11eb_9a3b_409f383a27f6row6_col3{\n",
       "            background-color:  #4a63d3;\n",
       "            color:  #f1f1f1;\n",
       "        }#T_9a5cc6a0_9d9c_11eb_9a3b_409f383a27f6row6_col6{\n",
       "            background-color:  #445acc;\n",
       "            color:  #f1f1f1;\n",
       "        }#T_9a5cc6a0_9d9c_11eb_9a3b_409f383a27f6row7_col3{\n",
       "            background-color:  #5d7ce6;\n",
       "            color:  #000000;\n",
       "        }#T_9a5cc6a0_9d9c_11eb_9a3b_409f383a27f6row7_col5{\n",
       "            background-color:  #3c4ec2;\n",
       "            color:  #f1f1f1;\n",
       "        }#T_9a5cc6a0_9d9c_11eb_9a3b_409f383a27f6row7_col6{\n",
       "            background-color:  #eed0c0;\n",
       "            color:  #000000;\n",
       "        }</style><table id=\"T_9a5cc6a0_9d9c_11eb_9a3b_409f383a27f6\" ><thead>    <tr>        <th class=\"blank level0\" ></th>        <th class=\"col_heading level0 col0\" >PassengerId</th>        <th class=\"col_heading level0 col1\" >Survived</th>        <th class=\"col_heading level0 col2\" >Pclass</th>        <th class=\"col_heading level0 col3\" >Age</th>        <th class=\"col_heading level0 col4\" >SibSp</th>        <th class=\"col_heading level0 col5\" >Parch</th>        <th class=\"col_heading level0 col6\" >Fare</th>    </tr></thead><tbody>\n",
       "                <tr>\n",
       "                        <th id=\"T_9a5cc6a0_9d9c_11eb_9a3b_409f383a27f6level0_row0\" class=\"row_heading level0 row0\" >count</th>\n",
       "                        <td id=\"T_9a5cc6a0_9d9c_11eb_9a3b_409f383a27f6row0_col0\" class=\"data row0 col0\" >891.0000</td>\n",
       "                        <td id=\"T_9a5cc6a0_9d9c_11eb_9a3b_409f383a27f6row0_col1\" class=\"data row0 col1\" >891.0000</td>\n",
       "                        <td id=\"T_9a5cc6a0_9d9c_11eb_9a3b_409f383a27f6row0_col2\" class=\"data row0 col2\" >891.0000</td>\n",
       "                        <td id=\"T_9a5cc6a0_9d9c_11eb_9a3b_409f383a27f6row0_col3\" class=\"data row0 col3\" >714.0000</td>\n",
       "                        <td id=\"T_9a5cc6a0_9d9c_11eb_9a3b_409f383a27f6row0_col4\" class=\"data row0 col4\" >891.0000</td>\n",
       "                        <td id=\"T_9a5cc6a0_9d9c_11eb_9a3b_409f383a27f6row0_col5\" class=\"data row0 col5\" >891.0000</td>\n",
       "                        <td id=\"T_9a5cc6a0_9d9c_11eb_9a3b_409f383a27f6row0_col6\" class=\"data row0 col6\" >891.0000</td>\n",
       "            </tr>\n",
       "            <tr>\n",
       "                        <th id=\"T_9a5cc6a0_9d9c_11eb_9a3b_409f383a27f6level0_row1\" class=\"row_heading level0 row1\" >mean</th>\n",
       "                        <td id=\"T_9a5cc6a0_9d9c_11eb_9a3b_409f383a27f6row1_col0\" class=\"data row1 col0\" >446.0000</td>\n",
       "                        <td id=\"T_9a5cc6a0_9d9c_11eb_9a3b_409f383a27f6row1_col1\" class=\"data row1 col1\" >0.3838</td>\n",
       "                        <td id=\"T_9a5cc6a0_9d9c_11eb_9a3b_409f383a27f6row1_col2\" class=\"data row1 col2\" >2.3086</td>\n",
       "                        <td id=\"T_9a5cc6a0_9d9c_11eb_9a3b_409f383a27f6row1_col3\" class=\"data row1 col3\" >29.6991</td>\n",
       "                        <td id=\"T_9a5cc6a0_9d9c_11eb_9a3b_409f383a27f6row1_col4\" class=\"data row1 col4\" >0.5230</td>\n",
       "                        <td id=\"T_9a5cc6a0_9d9c_11eb_9a3b_409f383a27f6row1_col5\" class=\"data row1 col5\" >0.3816</td>\n",
       "                        <td id=\"T_9a5cc6a0_9d9c_11eb_9a3b_409f383a27f6row1_col6\" class=\"data row1 col6\" >32.2042</td>\n",
       "            </tr>\n",
       "            <tr>\n",
       "                        <th id=\"T_9a5cc6a0_9d9c_11eb_9a3b_409f383a27f6level0_row2\" class=\"row_heading level0 row2\" >std</th>\n",
       "                        <td id=\"T_9a5cc6a0_9d9c_11eb_9a3b_409f383a27f6row2_col0\" class=\"data row2 col0\" >257.3538</td>\n",
       "                        <td id=\"T_9a5cc6a0_9d9c_11eb_9a3b_409f383a27f6row2_col1\" class=\"data row2 col1\" >0.4866</td>\n",
       "                        <td id=\"T_9a5cc6a0_9d9c_11eb_9a3b_409f383a27f6row2_col2\" class=\"data row2 col2\" >0.8361</td>\n",
       "                        <td id=\"T_9a5cc6a0_9d9c_11eb_9a3b_409f383a27f6row2_col3\" class=\"data row2 col3\" >14.5265</td>\n",
       "                        <td id=\"T_9a5cc6a0_9d9c_11eb_9a3b_409f383a27f6row2_col4\" class=\"data row2 col4\" >1.1027</td>\n",
       "                        <td id=\"T_9a5cc6a0_9d9c_11eb_9a3b_409f383a27f6row2_col5\" class=\"data row2 col5\" >0.8061</td>\n",
       "                        <td id=\"T_9a5cc6a0_9d9c_11eb_9a3b_409f383a27f6row2_col6\" class=\"data row2 col6\" >49.6934</td>\n",
       "            </tr>\n",
       "            <tr>\n",
       "                        <th id=\"T_9a5cc6a0_9d9c_11eb_9a3b_409f383a27f6level0_row3\" class=\"row_heading level0 row3\" >min</th>\n",
       "                        <td id=\"T_9a5cc6a0_9d9c_11eb_9a3b_409f383a27f6row3_col0\" class=\"data row3 col0\" >1.0000</td>\n",
       "                        <td id=\"T_9a5cc6a0_9d9c_11eb_9a3b_409f383a27f6row3_col1\" class=\"data row3 col1\" >0.0000</td>\n",
       "                        <td id=\"T_9a5cc6a0_9d9c_11eb_9a3b_409f383a27f6row3_col2\" class=\"data row3 col2\" >1.0000</td>\n",
       "                        <td id=\"T_9a5cc6a0_9d9c_11eb_9a3b_409f383a27f6row3_col3\" class=\"data row3 col3\" >0.4200</td>\n",
       "                        <td id=\"T_9a5cc6a0_9d9c_11eb_9a3b_409f383a27f6row3_col4\" class=\"data row3 col4\" >0.0000</td>\n",
       "                        <td id=\"T_9a5cc6a0_9d9c_11eb_9a3b_409f383a27f6row3_col5\" class=\"data row3 col5\" >0.0000</td>\n",
       "                        <td id=\"T_9a5cc6a0_9d9c_11eb_9a3b_409f383a27f6row3_col6\" class=\"data row3 col6\" >0.0000</td>\n",
       "            </tr>\n",
       "            <tr>\n",
       "                        <th id=\"T_9a5cc6a0_9d9c_11eb_9a3b_409f383a27f6level0_row4\" class=\"row_heading level0 row4\" >25%</th>\n",
       "                        <td id=\"T_9a5cc6a0_9d9c_11eb_9a3b_409f383a27f6row4_col0\" class=\"data row4 col0\" >223.5000</td>\n",
       "                        <td id=\"T_9a5cc6a0_9d9c_11eb_9a3b_409f383a27f6row4_col1\" class=\"data row4 col1\" >0.0000</td>\n",
       "                        <td id=\"T_9a5cc6a0_9d9c_11eb_9a3b_409f383a27f6row4_col2\" class=\"data row4 col2\" >2.0000</td>\n",
       "                        <td id=\"T_9a5cc6a0_9d9c_11eb_9a3b_409f383a27f6row4_col3\" class=\"data row4 col3\" >20.1250</td>\n",
       "                        <td id=\"T_9a5cc6a0_9d9c_11eb_9a3b_409f383a27f6row4_col4\" class=\"data row4 col4\" >0.0000</td>\n",
       "                        <td id=\"T_9a5cc6a0_9d9c_11eb_9a3b_409f383a27f6row4_col5\" class=\"data row4 col5\" >0.0000</td>\n",
       "                        <td id=\"T_9a5cc6a0_9d9c_11eb_9a3b_409f383a27f6row4_col6\" class=\"data row4 col6\" >7.9104</td>\n",
       "            </tr>\n",
       "            <tr>\n",
       "                        <th id=\"T_9a5cc6a0_9d9c_11eb_9a3b_409f383a27f6level0_row5\" class=\"row_heading level0 row5\" >50%</th>\n",
       "                        <td id=\"T_9a5cc6a0_9d9c_11eb_9a3b_409f383a27f6row5_col0\" class=\"data row5 col0\" >446.0000</td>\n",
       "                        <td id=\"T_9a5cc6a0_9d9c_11eb_9a3b_409f383a27f6row5_col1\" class=\"data row5 col1\" >0.0000</td>\n",
       "                        <td id=\"T_9a5cc6a0_9d9c_11eb_9a3b_409f383a27f6row5_col2\" class=\"data row5 col2\" >3.0000</td>\n",
       "                        <td id=\"T_9a5cc6a0_9d9c_11eb_9a3b_409f383a27f6row5_col3\" class=\"data row5 col3\" >28.0000</td>\n",
       "                        <td id=\"T_9a5cc6a0_9d9c_11eb_9a3b_409f383a27f6row5_col4\" class=\"data row5 col4\" >0.0000</td>\n",
       "                        <td id=\"T_9a5cc6a0_9d9c_11eb_9a3b_409f383a27f6row5_col5\" class=\"data row5 col5\" >0.0000</td>\n",
       "                        <td id=\"T_9a5cc6a0_9d9c_11eb_9a3b_409f383a27f6row5_col6\" class=\"data row5 col6\" >14.4542</td>\n",
       "            </tr>\n",
       "            <tr>\n",
       "                        <th id=\"T_9a5cc6a0_9d9c_11eb_9a3b_409f383a27f6level0_row6\" class=\"row_heading level0 row6\" >75%</th>\n",
       "                        <td id=\"T_9a5cc6a0_9d9c_11eb_9a3b_409f383a27f6row6_col0\" class=\"data row6 col0\" >668.5000</td>\n",
       "                        <td id=\"T_9a5cc6a0_9d9c_11eb_9a3b_409f383a27f6row6_col1\" class=\"data row6 col1\" >1.0000</td>\n",
       "                        <td id=\"T_9a5cc6a0_9d9c_11eb_9a3b_409f383a27f6row6_col2\" class=\"data row6 col2\" >3.0000</td>\n",
       "                        <td id=\"T_9a5cc6a0_9d9c_11eb_9a3b_409f383a27f6row6_col3\" class=\"data row6 col3\" >38.0000</td>\n",
       "                        <td id=\"T_9a5cc6a0_9d9c_11eb_9a3b_409f383a27f6row6_col4\" class=\"data row6 col4\" >1.0000</td>\n",
       "                        <td id=\"T_9a5cc6a0_9d9c_11eb_9a3b_409f383a27f6row6_col5\" class=\"data row6 col5\" >0.0000</td>\n",
       "                        <td id=\"T_9a5cc6a0_9d9c_11eb_9a3b_409f383a27f6row6_col6\" class=\"data row6 col6\" >31.0000</td>\n",
       "            </tr>\n",
       "            <tr>\n",
       "                        <th id=\"T_9a5cc6a0_9d9c_11eb_9a3b_409f383a27f6level0_row7\" class=\"row_heading level0 row7\" >max</th>\n",
       "                        <td id=\"T_9a5cc6a0_9d9c_11eb_9a3b_409f383a27f6row7_col0\" class=\"data row7 col0\" >891.0000</td>\n",
       "                        <td id=\"T_9a5cc6a0_9d9c_11eb_9a3b_409f383a27f6row7_col1\" class=\"data row7 col1\" >1.0000</td>\n",
       "                        <td id=\"T_9a5cc6a0_9d9c_11eb_9a3b_409f383a27f6row7_col2\" class=\"data row7 col2\" >3.0000</td>\n",
       "                        <td id=\"T_9a5cc6a0_9d9c_11eb_9a3b_409f383a27f6row7_col3\" class=\"data row7 col3\" >80.0000</td>\n",
       "                        <td id=\"T_9a5cc6a0_9d9c_11eb_9a3b_409f383a27f6row7_col4\" class=\"data row7 col4\" >8.0000</td>\n",
       "                        <td id=\"T_9a5cc6a0_9d9c_11eb_9a3b_409f383a27f6row7_col5\" class=\"data row7 col5\" >6.0000</td>\n",
       "                        <td id=\"T_9a5cc6a0_9d9c_11eb_9a3b_409f383a27f6row7_col6\" class=\"data row7 col6\" >512.3292</td>\n",
       "            </tr>\n",
       "    </tbody></table>"
      ],
      "text/plain": [
       "<pandas.io.formats.style.Styler at 0x2308640edf0>"
      ]
     },
     "execution_count": 6,
     "metadata": {},
     "output_type": "execute_result"
    }
   ],
   "source": [
    "train.describe().style.background_gradient(cmap='coolwarm').set_precision(4)"
   ]
  },
  {
   "cell_type": "code",
   "execution_count": 7,
   "metadata": {
    "scrolled": false
   },
   "outputs": [
    {
     "data": {
      "text/html": [
       "<style  type=\"text/css\" >\n",
       "#T_9a643e88_9d9c_11eb_bc09_409f383a27f6row0_col0,#T_9a643e88_9d9c_11eb_bc09_409f383a27f6row1_col1,#T_9a643e88_9d9c_11eb_bc09_409f383a27f6row2_col2,#T_9a643e88_9d9c_11eb_bc09_409f383a27f6row3_col3,#T_9a643e88_9d9c_11eb_bc09_409f383a27f6row4_col4,#T_9a643e88_9d9c_11eb_bc09_409f383a27f6row5_col5,#T_9a643e88_9d9c_11eb_bc09_409f383a27f6row6_col6{\n",
       "            background-color:  #023858;\n",
       "            color:  #f1f1f1;\n",
       "        }#T_9a643e88_9d9c_11eb_bc09_409f383a27f6row0_col1{\n",
       "            background-color:  #d1d2e6;\n",
       "            color:  #000000;\n",
       "        }#T_9a643e88_9d9c_11eb_bc09_409f383a27f6row0_col2{\n",
       "            background-color:  #b5c4df;\n",
       "            color:  #000000;\n",
       "        }#T_9a643e88_9d9c_11eb_bc09_409f383a27f6row0_col3{\n",
       "            background-color:  #c1cae2;\n",
       "            color:  #000000;\n",
       "        }#T_9a643e88_9d9c_11eb_bc09_409f383a27f6row0_col4,#T_9a643e88_9d9c_11eb_bc09_409f383a27f6row3_col1{\n",
       "            background-color:  #dddbec;\n",
       "            color:  #000000;\n",
       "        }#T_9a643e88_9d9c_11eb_bc09_409f383a27f6row0_col5{\n",
       "            background-color:  #e5e1ef;\n",
       "            color:  #000000;\n",
       "        }#T_9a643e88_9d9c_11eb_bc09_409f383a27f6row0_col6{\n",
       "            background-color:  #abbfdc;\n",
       "            color:  #000000;\n",
       "        }#T_9a643e88_9d9c_11eb_bc09_409f383a27f6row1_col0,#T_9a643e88_9d9c_11eb_bc09_409f383a27f6row4_col3{\n",
       "            background-color:  #f8f1f8;\n",
       "            color:  #000000;\n",
       "        }#T_9a643e88_9d9c_11eb_bc09_409f383a27f6row1_col2{\n",
       "            background-color:  #eae6f1;\n",
       "            color:  #000000;\n",
       "        }#T_9a643e88_9d9c_11eb_bc09_409f383a27f6row1_col3,#T_9a643e88_9d9c_11eb_bc09_409f383a27f6row1_col4{\n",
       "            background-color:  #d9d8ea;\n",
       "            color:  #000000;\n",
       "        }#T_9a643e88_9d9c_11eb_bc09_409f383a27f6row1_col5{\n",
       "            background-color:  #d5d5e8;\n",
       "            color:  #000000;\n",
       "        }#T_9a643e88_9d9c_11eb_bc09_409f383a27f6row1_col6{\n",
       "            background-color:  #69a5cc;\n",
       "            color:  #000000;\n",
       "        }#T_9a643e88_9d9c_11eb_bc09_409f383a27f6row2_col0{\n",
       "            background-color:  #fcf4fa;\n",
       "            color:  #000000;\n",
       "        }#T_9a643e88_9d9c_11eb_bc09_409f383a27f6row2_col1,#T_9a643e88_9d9c_11eb_bc09_409f383a27f6row2_col3,#T_9a643e88_9d9c_11eb_bc09_409f383a27f6row2_col6,#T_9a643e88_9d9c_11eb_bc09_409f383a27f6row3_col4,#T_9a643e88_9d9c_11eb_bc09_409f383a27f6row3_col5,#T_9a643e88_9d9c_11eb_bc09_409f383a27f6row4_col0,#T_9a643e88_9d9c_11eb_bc09_409f383a27f6row6_col2{\n",
       "            background-color:  #fff7fb;\n",
       "            color:  #000000;\n",
       "        }#T_9a643e88_9d9c_11eb_bc09_409f383a27f6row2_col4{\n",
       "            background-color:  #c0c9e2;\n",
       "            color:  #000000;\n",
       "        }#T_9a643e88_9d9c_11eb_bc09_409f383a27f6row2_col5{\n",
       "            background-color:  #e1dfed;\n",
       "            color:  #000000;\n",
       "        }#T_9a643e88_9d9c_11eb_bc09_409f383a27f6row3_col0{\n",
       "            background-color:  #f2ecf5;\n",
       "            color:  #000000;\n",
       "        }#T_9a643e88_9d9c_11eb_bc09_409f383a27f6row3_col2{\n",
       "            background-color:  #eee8f3;\n",
       "            color:  #000000;\n",
       "        }#T_9a643e88_9d9c_11eb_bc09_409f383a27f6row3_col6{\n",
       "            background-color:  #96b6d7;\n",
       "            color:  #000000;\n",
       "        }#T_9a643e88_9d9c_11eb_bc09_409f383a27f6row4_col1{\n",
       "            background-color:  #d6d6e9;\n",
       "            color:  #000000;\n",
       "        }#T_9a643e88_9d9c_11eb_bc09_409f383a27f6row4_col2{\n",
       "            background-color:  #99b8d8;\n",
       "            color:  #000000;\n",
       "        }#T_9a643e88_9d9c_11eb_bc09_409f383a27f6row4_col5{\n",
       "            background-color:  #6fa7ce;\n",
       "            color:  #000000;\n",
       "        }#T_9a643e88_9d9c_11eb_bc09_409f383a27f6row4_col6{\n",
       "            background-color:  #84b0d3;\n",
       "            color:  #000000;\n",
       "        }#T_9a643e88_9d9c_11eb_bc09_409f383a27f6row5_col0{\n",
       "            background-color:  #f7f0f7;\n",
       "            color:  #000000;\n",
       "        }#T_9a643e88_9d9c_11eb_bc09_409f383a27f6row5_col1{\n",
       "            background-color:  #bbc7e0;\n",
       "            color:  #000000;\n",
       "        }#T_9a643e88_9d9c_11eb_bc09_409f383a27f6row5_col2{\n",
       "            background-color:  #a9bfdc;\n",
       "            color:  #000000;\n",
       "        }#T_9a643e88_9d9c_11eb_bc09_409f383a27f6row5_col3{\n",
       "            background-color:  #ebe6f2;\n",
       "            color:  #000000;\n",
       "        }#T_9a643e88_9d9c_11eb_bc09_409f383a27f6row5_col4{\n",
       "            background-color:  #5a9ec9;\n",
       "            color:  #000000;\n",
       "        }#T_9a643e88_9d9c_11eb_bc09_409f383a27f6row5_col6{\n",
       "            background-color:  #76aad0;\n",
       "            color:  #000000;\n",
       "        }#T_9a643e88_9d9c_11eb_bc09_409f383a27f6row6_col0{\n",
       "            background-color:  #f5eff6;\n",
       "            color:  #000000;\n",
       "        }#T_9a643e88_9d9c_11eb_bc09_409f383a27f6row6_col1{\n",
       "            background-color:  #8bb2d4;\n",
       "            color:  #000000;\n",
       "        }#T_9a643e88_9d9c_11eb_bc09_409f383a27f6row6_col3{\n",
       "            background-color:  #b3c3de;\n",
       "            color:  #000000;\n",
       "        }#T_9a643e88_9d9c_11eb_bc09_409f383a27f6row6_col4{\n",
       "            background-color:  #acc0dd;\n",
       "            color:  #000000;\n",
       "        }#T_9a643e88_9d9c_11eb_bc09_409f383a27f6row6_col5{\n",
       "            background-color:  #b1c2de;\n",
       "            color:  #000000;\n",
       "        }</style><table id=\"T_9a643e88_9d9c_11eb_bc09_409f383a27f6\" ><thead>    <tr>        <th class=\"blank level0\" ></th>        <th class=\"col_heading level0 col0\" >PassengerId</th>        <th class=\"col_heading level0 col1\" >Survived</th>        <th class=\"col_heading level0 col2\" >Pclass</th>        <th class=\"col_heading level0 col3\" >Age</th>        <th class=\"col_heading level0 col4\" >SibSp</th>        <th class=\"col_heading level0 col5\" >Parch</th>        <th class=\"col_heading level0 col6\" >Fare</th>    </tr></thead><tbody>\n",
       "                <tr>\n",
       "                        <th id=\"T_9a643e88_9d9c_11eb_bc09_409f383a27f6level0_row0\" class=\"row_heading level0 row0\" >PassengerId</th>\n",
       "                        <td id=\"T_9a643e88_9d9c_11eb_bc09_409f383a27f6row0_col0\" class=\"data row0 col0\" >1.000000</td>\n",
       "                        <td id=\"T_9a643e88_9d9c_11eb_bc09_409f383a27f6row0_col1\" class=\"data row0 col1\" >-0.005007</td>\n",
       "                        <td id=\"T_9a643e88_9d9c_11eb_bc09_409f383a27f6row0_col2\" class=\"data row0 col2\" >-0.035144</td>\n",
       "                        <td id=\"T_9a643e88_9d9c_11eb_bc09_409f383a27f6row0_col3\" class=\"data row0 col3\" >0.036847</td>\n",
       "                        <td id=\"T_9a643e88_9d9c_11eb_bc09_409f383a27f6row0_col4\" class=\"data row0 col4\" >-0.057527</td>\n",
       "                        <td id=\"T_9a643e88_9d9c_11eb_bc09_409f383a27f6row0_col5\" class=\"data row0 col5\" >-0.001652</td>\n",
       "                        <td id=\"T_9a643e88_9d9c_11eb_bc09_409f383a27f6row0_col6\" class=\"data row0 col6\" >0.012658</td>\n",
       "            </tr>\n",
       "            <tr>\n",
       "                        <th id=\"T_9a643e88_9d9c_11eb_bc09_409f383a27f6level0_row1\" class=\"row_heading level0 row1\" >Survived</th>\n",
       "                        <td id=\"T_9a643e88_9d9c_11eb_bc09_409f383a27f6row1_col0\" class=\"data row1 col0\" >-0.005007</td>\n",
       "                        <td id=\"T_9a643e88_9d9c_11eb_bc09_409f383a27f6row1_col1\" class=\"data row1 col1\" >1.000000</td>\n",
       "                        <td id=\"T_9a643e88_9d9c_11eb_bc09_409f383a27f6row1_col2\" class=\"data row1 col2\" >-0.338481</td>\n",
       "                        <td id=\"T_9a643e88_9d9c_11eb_bc09_409f383a27f6row1_col3\" class=\"data row1 col3\" >-0.077221</td>\n",
       "                        <td id=\"T_9a643e88_9d9c_11eb_bc09_409f383a27f6row1_col4\" class=\"data row1 col4\" >-0.035322</td>\n",
       "                        <td id=\"T_9a643e88_9d9c_11eb_bc09_409f383a27f6row1_col5\" class=\"data row1 col5\" >0.081629</td>\n",
       "                        <td id=\"T_9a643e88_9d9c_11eb_bc09_409f383a27f6row1_col6\" class=\"data row1 col6\" >0.257307</td>\n",
       "            </tr>\n",
       "            <tr>\n",
       "                        <th id=\"T_9a643e88_9d9c_11eb_bc09_409f383a27f6level0_row2\" class=\"row_heading level0 row2\" >Pclass</th>\n",
       "                        <td id=\"T_9a643e88_9d9c_11eb_bc09_409f383a27f6row2_col0\" class=\"data row2 col0\" >-0.035144</td>\n",
       "                        <td id=\"T_9a643e88_9d9c_11eb_bc09_409f383a27f6row2_col1\" class=\"data row2 col1\" >-0.338481</td>\n",
       "                        <td id=\"T_9a643e88_9d9c_11eb_bc09_409f383a27f6row2_col2\" class=\"data row2 col2\" >1.000000</td>\n",
       "                        <td id=\"T_9a643e88_9d9c_11eb_bc09_409f383a27f6row2_col3\" class=\"data row2 col3\" >-0.369226</td>\n",
       "                        <td id=\"T_9a643e88_9d9c_11eb_bc09_409f383a27f6row2_col4\" class=\"data row2 col4\" >0.083081</td>\n",
       "                        <td id=\"T_9a643e88_9d9c_11eb_bc09_409f383a27f6row2_col5\" class=\"data row2 col5\" >0.018443</td>\n",
       "                        <td id=\"T_9a643e88_9d9c_11eb_bc09_409f383a27f6row2_col6\" class=\"data row2 col6\" >-0.549500</td>\n",
       "            </tr>\n",
       "            <tr>\n",
       "                        <th id=\"T_9a643e88_9d9c_11eb_bc09_409f383a27f6level0_row3\" class=\"row_heading level0 row3\" >Age</th>\n",
       "                        <td id=\"T_9a643e88_9d9c_11eb_bc09_409f383a27f6row3_col0\" class=\"data row3 col0\" >0.036847</td>\n",
       "                        <td id=\"T_9a643e88_9d9c_11eb_bc09_409f383a27f6row3_col1\" class=\"data row3 col1\" >-0.077221</td>\n",
       "                        <td id=\"T_9a643e88_9d9c_11eb_bc09_409f383a27f6row3_col2\" class=\"data row3 col2\" >-0.369226</td>\n",
       "                        <td id=\"T_9a643e88_9d9c_11eb_bc09_409f383a27f6row3_col3\" class=\"data row3 col3\" >1.000000</td>\n",
       "                        <td id=\"T_9a643e88_9d9c_11eb_bc09_409f383a27f6row3_col4\" class=\"data row3 col4\" >-0.308247</td>\n",
       "                        <td id=\"T_9a643e88_9d9c_11eb_bc09_409f383a27f6row3_col5\" class=\"data row3 col5\" >-0.189119</td>\n",
       "                        <td id=\"T_9a643e88_9d9c_11eb_bc09_409f383a27f6row3_col6\" class=\"data row3 col6\" >0.096067</td>\n",
       "            </tr>\n",
       "            <tr>\n",
       "                        <th id=\"T_9a643e88_9d9c_11eb_bc09_409f383a27f6level0_row4\" class=\"row_heading level0 row4\" >SibSp</th>\n",
       "                        <td id=\"T_9a643e88_9d9c_11eb_bc09_409f383a27f6row4_col0\" class=\"data row4 col0\" >-0.057527</td>\n",
       "                        <td id=\"T_9a643e88_9d9c_11eb_bc09_409f383a27f6row4_col1\" class=\"data row4 col1\" >-0.035322</td>\n",
       "                        <td id=\"T_9a643e88_9d9c_11eb_bc09_409f383a27f6row4_col2\" class=\"data row4 col2\" >0.083081</td>\n",
       "                        <td id=\"T_9a643e88_9d9c_11eb_bc09_409f383a27f6row4_col3\" class=\"data row4 col3\" >-0.308247</td>\n",
       "                        <td id=\"T_9a643e88_9d9c_11eb_bc09_409f383a27f6row4_col4\" class=\"data row4 col4\" >1.000000</td>\n",
       "                        <td id=\"T_9a643e88_9d9c_11eb_bc09_409f383a27f6row4_col5\" class=\"data row4 col5\" >0.414838</td>\n",
       "                        <td id=\"T_9a643e88_9d9c_11eb_bc09_409f383a27f6row4_col6\" class=\"data row4 col6\" >0.159651</td>\n",
       "            </tr>\n",
       "            <tr>\n",
       "                        <th id=\"T_9a643e88_9d9c_11eb_bc09_409f383a27f6level0_row5\" class=\"row_heading level0 row5\" >Parch</th>\n",
       "                        <td id=\"T_9a643e88_9d9c_11eb_bc09_409f383a27f6row5_col0\" class=\"data row5 col0\" >-0.001652</td>\n",
       "                        <td id=\"T_9a643e88_9d9c_11eb_bc09_409f383a27f6row5_col1\" class=\"data row5 col1\" >0.081629</td>\n",
       "                        <td id=\"T_9a643e88_9d9c_11eb_bc09_409f383a27f6row5_col2\" class=\"data row5 col2\" >0.018443</td>\n",
       "                        <td id=\"T_9a643e88_9d9c_11eb_bc09_409f383a27f6row5_col3\" class=\"data row5 col3\" >-0.189119</td>\n",
       "                        <td id=\"T_9a643e88_9d9c_11eb_bc09_409f383a27f6row5_col4\" class=\"data row5 col4\" >0.414838</td>\n",
       "                        <td id=\"T_9a643e88_9d9c_11eb_bc09_409f383a27f6row5_col5\" class=\"data row5 col5\" >1.000000</td>\n",
       "                        <td id=\"T_9a643e88_9d9c_11eb_bc09_409f383a27f6row5_col6\" class=\"data row5 col6\" >0.216225</td>\n",
       "            </tr>\n",
       "            <tr>\n",
       "                        <th id=\"T_9a643e88_9d9c_11eb_bc09_409f383a27f6level0_row6\" class=\"row_heading level0 row6\" >Fare</th>\n",
       "                        <td id=\"T_9a643e88_9d9c_11eb_bc09_409f383a27f6row6_col0\" class=\"data row6 col0\" >0.012658</td>\n",
       "                        <td id=\"T_9a643e88_9d9c_11eb_bc09_409f383a27f6row6_col1\" class=\"data row6 col1\" >0.257307</td>\n",
       "                        <td id=\"T_9a643e88_9d9c_11eb_bc09_409f383a27f6row6_col2\" class=\"data row6 col2\" >-0.549500</td>\n",
       "                        <td id=\"T_9a643e88_9d9c_11eb_bc09_409f383a27f6row6_col3\" class=\"data row6 col3\" >0.096067</td>\n",
       "                        <td id=\"T_9a643e88_9d9c_11eb_bc09_409f383a27f6row6_col4\" class=\"data row6 col4\" >0.159651</td>\n",
       "                        <td id=\"T_9a643e88_9d9c_11eb_bc09_409f383a27f6row6_col5\" class=\"data row6 col5\" >0.216225</td>\n",
       "                        <td id=\"T_9a643e88_9d9c_11eb_bc09_409f383a27f6row6_col6\" class=\"data row6 col6\" >1.000000</td>\n",
       "            </tr>\n",
       "    </tbody></table>"
      ],
      "text/plain": [
       "<pandas.io.formats.style.Styler at 0x2308641b0a0>"
      ]
     },
     "execution_count": 7,
     "metadata": {},
     "output_type": "execute_result"
    }
   ],
   "source": [
    "#Revisemos las correlaciones de las variables para ver como se comportan incialmente\n",
    "#Agregamos style para tener una relacion de colorres\n",
    "train.corr().style.background_gradient()  #background_gradient(cmap='coolwarm')"
   ]
  },
  {
   "cell_type": "code",
   "execution_count": 8,
   "metadata": {
    "scrolled": false
   },
   "outputs": [
    {
     "data": {
      "text/html": [
       "<style  type=\"text/css\" >\n",
       "#T_9ae10023_9d9c_11eb_861a_409f383a27f6row0_col0,#T_9ae10023_9d9c_11eb_861a_409f383a27f6row1_col1,#T_9ae10023_9d9c_11eb_861a_409f383a27f6row2_col2,#T_9ae10023_9d9c_11eb_861a_409f383a27f6row3_col3,#T_9ae10023_9d9c_11eb_861a_409f383a27f6row4_col4,#T_9ae10023_9d9c_11eb_861a_409f383a27f6row5_col5,#T_9ae10023_9d9c_11eb_861a_409f383a27f6row6_col6{\n",
       "            background-color:  #b40426;\n",
       "            color:  #f1f1f1;\n",
       "        }#T_9ae10023_9d9c_11eb_861a_409f383a27f6row0_col1{\n",
       "            background-color:  #8caffe;\n",
       "            color:  #000000;\n",
       "        }#T_9ae10023_9d9c_11eb_861a_409f383a27f6row0_col2{\n",
       "            background-color:  #a9c6fd;\n",
       "            color:  #000000;\n",
       "        }#T_9ae10023_9d9c_11eb_861a_409f383a27f6row0_col3{\n",
       "            background-color:  #9dbdff;\n",
       "            color:  #000000;\n",
       "        }#T_9ae10023_9d9c_11eb_861a_409f383a27f6row0_col4,#T_9ae10023_9d9c_11eb_861a_409f383a27f6row3_col1{\n",
       "            background-color:  #799cf8;\n",
       "            color:  #000000;\n",
       "        }#T_9ae10023_9d9c_11eb_861a_409f383a27f6row0_col5{\n",
       "            background-color:  #6c8ff1;\n",
       "            color:  #000000;\n",
       "        }#T_9ae10023_9d9c_11eb_861a_409f383a27f6row0_col6{\n",
       "            background-color:  #b3cdfb;\n",
       "            color:  #000000;\n",
       "        }#T_9ae10023_9d9c_11eb_861a_409f383a27f6row1_col0{\n",
       "            background-color:  #4961d2;\n",
       "            color:  #f1f1f1;\n",
       "        }#T_9ae10023_9d9c_11eb_861a_409f383a27f6row1_col2{\n",
       "            background-color:  #6485ec;\n",
       "            color:  #000000;\n",
       "        }#T_9ae10023_9d9c_11eb_861a_409f383a27f6row1_col3{\n",
       "            background-color:  #80a3fa;\n",
       "            color:  #000000;\n",
       "        }#T_9ae10023_9d9c_11eb_861a_409f383a27f6row1_col4{\n",
       "            background-color:  #7ea1fa;\n",
       "            color:  #000000;\n",
       "        }#T_9ae10023_9d9c_11eb_861a_409f383a27f6row1_col5{\n",
       "            background-color:  #85a8fc;\n",
       "            color:  #000000;\n",
       "        }#T_9ae10023_9d9c_11eb_861a_409f383a27f6row1_col6{\n",
       "            background-color:  #e2dad5;\n",
       "            color:  #000000;\n",
       "        }#T_9ae10023_9d9c_11eb_861a_409f383a27f6row2_col0{\n",
       "            background-color:  #4055c8;\n",
       "            color:  #f1f1f1;\n",
       "        }#T_9ae10023_9d9c_11eb_861a_409f383a27f6row2_col1,#T_9ae10023_9d9c_11eb_861a_409f383a27f6row2_col3,#T_9ae10023_9d9c_11eb_861a_409f383a27f6row2_col6,#T_9ae10023_9d9c_11eb_861a_409f383a27f6row3_col4,#T_9ae10023_9d9c_11eb_861a_409f383a27f6row3_col5,#T_9ae10023_9d9c_11eb_861a_409f383a27f6row4_col0,#T_9ae10023_9d9c_11eb_861a_409f383a27f6row6_col2{\n",
       "            background-color:  #3b4cc0;\n",
       "            color:  #f1f1f1;\n",
       "        }#T_9ae10023_9d9c_11eb_861a_409f383a27f6row2_col4{\n",
       "            background-color:  #9ebeff;\n",
       "            color:  #000000;\n",
       "        }#T_9ae10023_9d9c_11eb_861a_409f383a27f6row2_col5{\n",
       "            background-color:  #7295f4;\n",
       "            color:  #000000;\n",
       "        }#T_9ae10023_9d9c_11eb_861a_409f383a27f6row3_col0{\n",
       "            background-color:  #5572df;\n",
       "            color:  #000000;\n",
       "        }#T_9ae10023_9d9c_11eb_861a_409f383a27f6row3_col2{\n",
       "            background-color:  #5e7de7;\n",
       "            color:  #000000;\n",
       "        }#T_9ae10023_9d9c_11eb_861a_409f383a27f6row3_col6{\n",
       "            background-color:  #c5d6f2;\n",
       "            color:  #000000;\n",
       "        }#T_9ae10023_9d9c_11eb_861a_409f383a27f6row4_col1{\n",
       "            background-color:  #84a7fc;\n",
       "            color:  #000000;\n",
       "        }#T_9ae10023_9d9c_11eb_861a_409f383a27f6row4_col2{\n",
       "            background-color:  #c3d5f4;\n",
       "            color:  #000000;\n",
       "        }#T_9ae10023_9d9c_11eb_861a_409f383a27f6row4_col3{\n",
       "            background-color:  #485fd1;\n",
       "            color:  #f1f1f1;\n",
       "        }#T_9ae10023_9d9c_11eb_861a_409f383a27f6row4_col5{\n",
       "            background-color:  #dfdbd9;\n",
       "            color:  #000000;\n",
       "        }#T_9ae10023_9d9c_11eb_861a_409f383a27f6row4_col6{\n",
       "            background-color:  #d2dbe8;\n",
       "            color:  #000000;\n",
       "        }#T_9ae10023_9d9c_11eb_861a_409f383a27f6row5_col0{\n",
       "            background-color:  #4a63d3;\n",
       "            color:  #f1f1f1;\n",
       "        }#T_9ae10023_9d9c_11eb_861a_409f383a27f6row5_col1{\n",
       "            background-color:  #a3c2fe;\n",
       "            color:  #000000;\n",
       "        }#T_9ae10023_9d9c_11eb_861a_409f383a27f6row5_col2{\n",
       "            background-color:  #b5cdfa;\n",
       "            color:  #000000;\n",
       "        }#T_9ae10023_9d9c_11eb_861a_409f383a27f6row5_col3{\n",
       "            background-color:  #6384eb;\n",
       "            color:  #000000;\n",
       "        }#T_9ae10023_9d9c_11eb_861a_409f383a27f6row5_col4{\n",
       "            background-color:  #ead5c9;\n",
       "            color:  #000000;\n",
       "        }#T_9ae10023_9d9c_11eb_861a_409f383a27f6row5_col6{\n",
       "            background-color:  #dbdcde;\n",
       "            color:  #000000;\n",
       "        }#T_9ae10023_9d9c_11eb_861a_409f383a27f6row6_col0{\n",
       "            background-color:  #4e68d8;\n",
       "            color:  #000000;\n",
       "        }#T_9ae10023_9d9c_11eb_861a_409f383a27f6row6_col1{\n",
       "            background-color:  #cdd9ec;\n",
       "            color:  #000000;\n",
       "        }#T_9ae10023_9d9c_11eb_861a_409f383a27f6row6_col3{\n",
       "            background-color:  #abc8fd;\n",
       "            color:  #000000;\n",
       "        }#T_9ae10023_9d9c_11eb_861a_409f383a27f6row6_col4{\n",
       "            background-color:  #b2ccfb;\n",
       "            color:  #000000;\n",
       "        }#T_9ae10023_9d9c_11eb_861a_409f383a27f6row6_col5{\n",
       "            background-color:  #adc9fd;\n",
       "            color:  #000000;\n",
       "        }</style><table id=\"T_9ae10023_9d9c_11eb_861a_409f383a27f6\" ><thead>    <tr>        <th class=\"blank level0\" ></th>        <th class=\"col_heading level0 col0\" >PassengerId</th>        <th class=\"col_heading level0 col1\" >Survived</th>        <th class=\"col_heading level0 col2\" >Pclass</th>        <th class=\"col_heading level0 col3\" >Age</th>        <th class=\"col_heading level0 col4\" >SibSp</th>        <th class=\"col_heading level0 col5\" >Parch</th>        <th class=\"col_heading level0 col6\" >Fare</th>    </tr></thead><tbody>\n",
       "                <tr>\n",
       "                        <th id=\"T_9ae10023_9d9c_11eb_861a_409f383a27f6level0_row0\" class=\"row_heading level0 row0\" >PassengerId</th>\n",
       "                        <td id=\"T_9ae10023_9d9c_11eb_861a_409f383a27f6row0_col0\" class=\"data row0 col0\" >1.0000</td>\n",
       "                        <td id=\"T_9ae10023_9d9c_11eb_861a_409f383a27f6row0_col1\" class=\"data row0 col1\" >-0.0050</td>\n",
       "                        <td id=\"T_9ae10023_9d9c_11eb_861a_409f383a27f6row0_col2\" class=\"data row0 col2\" >-0.0351</td>\n",
       "                        <td id=\"T_9ae10023_9d9c_11eb_861a_409f383a27f6row0_col3\" class=\"data row0 col3\" >0.0368</td>\n",
       "                        <td id=\"T_9ae10023_9d9c_11eb_861a_409f383a27f6row0_col4\" class=\"data row0 col4\" >-0.0575</td>\n",
       "                        <td id=\"T_9ae10023_9d9c_11eb_861a_409f383a27f6row0_col5\" class=\"data row0 col5\" >-0.0017</td>\n",
       "                        <td id=\"T_9ae10023_9d9c_11eb_861a_409f383a27f6row0_col6\" class=\"data row0 col6\" >0.0127</td>\n",
       "            </tr>\n",
       "            <tr>\n",
       "                        <th id=\"T_9ae10023_9d9c_11eb_861a_409f383a27f6level0_row1\" class=\"row_heading level0 row1\" >Survived</th>\n",
       "                        <td id=\"T_9ae10023_9d9c_11eb_861a_409f383a27f6row1_col0\" class=\"data row1 col0\" >-0.0050</td>\n",
       "                        <td id=\"T_9ae10023_9d9c_11eb_861a_409f383a27f6row1_col1\" class=\"data row1 col1\" >1.0000</td>\n",
       "                        <td id=\"T_9ae10023_9d9c_11eb_861a_409f383a27f6row1_col2\" class=\"data row1 col2\" >-0.3385</td>\n",
       "                        <td id=\"T_9ae10023_9d9c_11eb_861a_409f383a27f6row1_col3\" class=\"data row1 col3\" >-0.0772</td>\n",
       "                        <td id=\"T_9ae10023_9d9c_11eb_861a_409f383a27f6row1_col4\" class=\"data row1 col4\" >-0.0353</td>\n",
       "                        <td id=\"T_9ae10023_9d9c_11eb_861a_409f383a27f6row1_col5\" class=\"data row1 col5\" >0.0816</td>\n",
       "                        <td id=\"T_9ae10023_9d9c_11eb_861a_409f383a27f6row1_col6\" class=\"data row1 col6\" >0.2573</td>\n",
       "            </tr>\n",
       "            <tr>\n",
       "                        <th id=\"T_9ae10023_9d9c_11eb_861a_409f383a27f6level0_row2\" class=\"row_heading level0 row2\" >Pclass</th>\n",
       "                        <td id=\"T_9ae10023_9d9c_11eb_861a_409f383a27f6row2_col0\" class=\"data row2 col0\" >-0.0351</td>\n",
       "                        <td id=\"T_9ae10023_9d9c_11eb_861a_409f383a27f6row2_col1\" class=\"data row2 col1\" >-0.3385</td>\n",
       "                        <td id=\"T_9ae10023_9d9c_11eb_861a_409f383a27f6row2_col2\" class=\"data row2 col2\" >1.0000</td>\n",
       "                        <td id=\"T_9ae10023_9d9c_11eb_861a_409f383a27f6row2_col3\" class=\"data row2 col3\" >-0.3692</td>\n",
       "                        <td id=\"T_9ae10023_9d9c_11eb_861a_409f383a27f6row2_col4\" class=\"data row2 col4\" >0.0831</td>\n",
       "                        <td id=\"T_9ae10023_9d9c_11eb_861a_409f383a27f6row2_col5\" class=\"data row2 col5\" >0.0184</td>\n",
       "                        <td id=\"T_9ae10023_9d9c_11eb_861a_409f383a27f6row2_col6\" class=\"data row2 col6\" >-0.5495</td>\n",
       "            </tr>\n",
       "            <tr>\n",
       "                        <th id=\"T_9ae10023_9d9c_11eb_861a_409f383a27f6level0_row3\" class=\"row_heading level0 row3\" >Age</th>\n",
       "                        <td id=\"T_9ae10023_9d9c_11eb_861a_409f383a27f6row3_col0\" class=\"data row3 col0\" >0.0368</td>\n",
       "                        <td id=\"T_9ae10023_9d9c_11eb_861a_409f383a27f6row3_col1\" class=\"data row3 col1\" >-0.0772</td>\n",
       "                        <td id=\"T_9ae10023_9d9c_11eb_861a_409f383a27f6row3_col2\" class=\"data row3 col2\" >-0.3692</td>\n",
       "                        <td id=\"T_9ae10023_9d9c_11eb_861a_409f383a27f6row3_col3\" class=\"data row3 col3\" >1.0000</td>\n",
       "                        <td id=\"T_9ae10023_9d9c_11eb_861a_409f383a27f6row3_col4\" class=\"data row3 col4\" >-0.3082</td>\n",
       "                        <td id=\"T_9ae10023_9d9c_11eb_861a_409f383a27f6row3_col5\" class=\"data row3 col5\" >-0.1891</td>\n",
       "                        <td id=\"T_9ae10023_9d9c_11eb_861a_409f383a27f6row3_col6\" class=\"data row3 col6\" >0.0961</td>\n",
       "            </tr>\n",
       "            <tr>\n",
       "                        <th id=\"T_9ae10023_9d9c_11eb_861a_409f383a27f6level0_row4\" class=\"row_heading level0 row4\" >SibSp</th>\n",
       "                        <td id=\"T_9ae10023_9d9c_11eb_861a_409f383a27f6row4_col0\" class=\"data row4 col0\" >-0.0575</td>\n",
       "                        <td id=\"T_9ae10023_9d9c_11eb_861a_409f383a27f6row4_col1\" class=\"data row4 col1\" >-0.0353</td>\n",
       "                        <td id=\"T_9ae10023_9d9c_11eb_861a_409f383a27f6row4_col2\" class=\"data row4 col2\" >0.0831</td>\n",
       "                        <td id=\"T_9ae10023_9d9c_11eb_861a_409f383a27f6row4_col3\" class=\"data row4 col3\" >-0.3082</td>\n",
       "                        <td id=\"T_9ae10023_9d9c_11eb_861a_409f383a27f6row4_col4\" class=\"data row4 col4\" >1.0000</td>\n",
       "                        <td id=\"T_9ae10023_9d9c_11eb_861a_409f383a27f6row4_col5\" class=\"data row4 col5\" >0.4148</td>\n",
       "                        <td id=\"T_9ae10023_9d9c_11eb_861a_409f383a27f6row4_col6\" class=\"data row4 col6\" >0.1597</td>\n",
       "            </tr>\n",
       "            <tr>\n",
       "                        <th id=\"T_9ae10023_9d9c_11eb_861a_409f383a27f6level0_row5\" class=\"row_heading level0 row5\" >Parch</th>\n",
       "                        <td id=\"T_9ae10023_9d9c_11eb_861a_409f383a27f6row5_col0\" class=\"data row5 col0\" >-0.0017</td>\n",
       "                        <td id=\"T_9ae10023_9d9c_11eb_861a_409f383a27f6row5_col1\" class=\"data row5 col1\" >0.0816</td>\n",
       "                        <td id=\"T_9ae10023_9d9c_11eb_861a_409f383a27f6row5_col2\" class=\"data row5 col2\" >0.0184</td>\n",
       "                        <td id=\"T_9ae10023_9d9c_11eb_861a_409f383a27f6row5_col3\" class=\"data row5 col3\" >-0.1891</td>\n",
       "                        <td id=\"T_9ae10023_9d9c_11eb_861a_409f383a27f6row5_col4\" class=\"data row5 col4\" >0.4148</td>\n",
       "                        <td id=\"T_9ae10023_9d9c_11eb_861a_409f383a27f6row5_col5\" class=\"data row5 col5\" >1.0000</td>\n",
       "                        <td id=\"T_9ae10023_9d9c_11eb_861a_409f383a27f6row5_col6\" class=\"data row5 col6\" >0.2162</td>\n",
       "            </tr>\n",
       "            <tr>\n",
       "                        <th id=\"T_9ae10023_9d9c_11eb_861a_409f383a27f6level0_row6\" class=\"row_heading level0 row6\" >Fare</th>\n",
       "                        <td id=\"T_9ae10023_9d9c_11eb_861a_409f383a27f6row6_col0\" class=\"data row6 col0\" >0.0127</td>\n",
       "                        <td id=\"T_9ae10023_9d9c_11eb_861a_409f383a27f6row6_col1\" class=\"data row6 col1\" >0.2573</td>\n",
       "                        <td id=\"T_9ae10023_9d9c_11eb_861a_409f383a27f6row6_col2\" class=\"data row6 col2\" >-0.5495</td>\n",
       "                        <td id=\"T_9ae10023_9d9c_11eb_861a_409f383a27f6row6_col3\" class=\"data row6 col3\" >0.0961</td>\n",
       "                        <td id=\"T_9ae10023_9d9c_11eb_861a_409f383a27f6row6_col4\" class=\"data row6 col4\" >0.1597</td>\n",
       "                        <td id=\"T_9ae10023_9d9c_11eb_861a_409f383a27f6row6_col5\" class=\"data row6 col5\" >0.2162</td>\n",
       "                        <td id=\"T_9ae10023_9d9c_11eb_861a_409f383a27f6row6_col6\" class=\"data row6 col6\" >1.0000</td>\n",
       "            </tr>\n",
       "    </tbody></table>"
      ],
      "text/plain": [
       "<pandas.io.formats.style.Styler at 0x2308a00b1f0>"
      ]
     },
     "execution_count": 8,
     "metadata": {},
     "output_type": "execute_result"
    }
   ],
   "source": [
    "train.corr().style.background_gradient(cmap='coolwarm').set_precision(4)#inidcalos los decimales de los datos"
   ]
  },
  {
   "cell_type": "code",
   "execution_count": 9,
   "metadata": {},
   "outputs": [],
   "source": [
    "#puedes evaluar la realcion de todas las variables de tu df.\n",
    "#train.style.background_gradient(cmap='coolwarm')"
   ]
  },
  {
   "cell_type": "markdown",
   "metadata": {},
   "source": [
    "Podemos observar que a primeras no existe una correlacion relevante entre las variables numericas, sin embargo podemos hacer algunas correciones a los datos para poder tener mejores conclusiones"
   ]
  },
  {
   "cell_type": "markdown",
   "metadata": {},
   "source": [
    "## **4. Limpiando la data**"
   ]
  },
  {
   "cell_type": "markdown",
   "metadata": {},
   "source": [
    "sabemos que las var Age, Cabin y Embarked contiene valores nulos"
   ]
  },
  {
   "cell_type": "markdown",
   "metadata": {},
   "source": [
    "Sabemos que Cabin tiene la mayor cantidad de datos nulos, elimar esas filas afectaria notablemente las conclusiones\n",
    "entonces borraremos la columna, considerando que tampoco no entrega inf relevante por ahora."
   ]
  },
  {
   "cell_type": "code",
   "execution_count": 10,
   "metadata": {
    "scrolled": true
   },
   "outputs": [],
   "source": [
    "#dejamos el df original por si queremos reinicar desde aca \n",
    "#train = pd.read_csv(r'data\\train.csv')"
   ]
  },
  {
   "cell_type": "code",
   "execution_count": 12,
   "metadata": {
    "scrolled": true
   },
   "outputs": [
    {
     "data": {
      "text/html": [
       "<div>\n",
       "<style scoped>\n",
       "    .dataframe tbody tr th:only-of-type {\n",
       "        vertical-align: middle;\n",
       "    }\n",
       "\n",
       "    .dataframe tbody tr th {\n",
       "        vertical-align: top;\n",
       "    }\n",
       "\n",
       "    .dataframe thead th {\n",
       "        text-align: right;\n",
       "    }\n",
       "</style>\n",
       "<table border=\"1\" class=\"dataframe\">\n",
       "  <thead>\n",
       "    <tr style=\"text-align: right;\">\n",
       "      <th></th>\n",
       "      <th></th>\n",
       "      <th>count</th>\n",
       "      <th>mean</th>\n",
       "      <th>std</th>\n",
       "      <th>min</th>\n",
       "      <th>25%</th>\n",
       "      <th>50%</th>\n",
       "      <th>75%</th>\n",
       "      <th>max</th>\n",
       "    </tr>\n",
       "    <tr>\n",
       "      <th>Sex</th>\n",
       "      <th>Survived</th>\n",
       "      <th></th>\n",
       "      <th></th>\n",
       "      <th></th>\n",
       "      <th></th>\n",
       "      <th></th>\n",
       "      <th></th>\n",
       "      <th></th>\n",
       "      <th></th>\n",
       "    </tr>\n",
       "  </thead>\n",
       "  <tbody>\n",
       "    <tr>\n",
       "      <th rowspan=\"2\" valign=\"top\">female</th>\n",
       "      <th>0</th>\n",
       "      <td>64.0</td>\n",
       "      <td>25.046875</td>\n",
       "      <td>13.618591</td>\n",
       "      <td>2.00</td>\n",
       "      <td>16.75</td>\n",
       "      <td>24.5</td>\n",
       "      <td>33.25</td>\n",
       "      <td>57.0</td>\n",
       "    </tr>\n",
       "    <tr>\n",
       "      <th>1</th>\n",
       "      <td>197.0</td>\n",
       "      <td>28.847716</td>\n",
       "      <td>14.175073</td>\n",
       "      <td>0.75</td>\n",
       "      <td>19.00</td>\n",
       "      <td>28.0</td>\n",
       "      <td>38.00</td>\n",
       "      <td>63.0</td>\n",
       "    </tr>\n",
       "    <tr>\n",
       "      <th rowspan=\"2\" valign=\"top\">male</th>\n",
       "      <th>0</th>\n",
       "      <td>360.0</td>\n",
       "      <td>31.618056</td>\n",
       "      <td>14.056019</td>\n",
       "      <td>1.00</td>\n",
       "      <td>21.75</td>\n",
       "      <td>29.0</td>\n",
       "      <td>39.25</td>\n",
       "      <td>74.0</td>\n",
       "    </tr>\n",
       "    <tr>\n",
       "      <th>1</th>\n",
       "      <td>93.0</td>\n",
       "      <td>27.276022</td>\n",
       "      <td>16.504803</td>\n",
       "      <td>0.42</td>\n",
       "      <td>18.00</td>\n",
       "      <td>28.0</td>\n",
       "      <td>36.00</td>\n",
       "      <td>80.0</td>\n",
       "    </tr>\n",
       "  </tbody>\n",
       "</table>\n",
       "</div>"
      ],
      "text/plain": [
       "                 count       mean        std   min    25%   50%    75%   max\n",
       "Sex    Survived                                                             \n",
       "female 0          64.0  25.046875  13.618591  2.00  16.75  24.5  33.25  57.0\n",
       "       1         197.0  28.847716  14.175073  0.75  19.00  28.0  38.00  63.0\n",
       "male   0         360.0  31.618056  14.056019  1.00  21.75  29.0  39.25  74.0\n",
       "       1          93.0  27.276022  16.504803  0.42  18.00  28.0  36.00  80.0"
      ]
     },
     "execution_count": 12,
     "metadata": {},
     "output_type": "execute_result"
    }
   ],
   "source": [
    "train.groupby(['Sex','Survived'])['Age'].agg('describe')"
   ]
  },
  {
   "cell_type": "code",
   "execution_count": 13,
   "metadata": {},
   "outputs": [
    {
     "data": {
      "text/plain": [
       "Sex     Survived\n",
       "female  0            1603.00\n",
       "        1            5683.00\n",
       "male    0           11382.50\n",
       "        1            2536.67\n",
       "Name: Age, dtype: float64"
      ]
     },
     "execution_count": 13,
     "metadata": {},
     "output_type": "execute_result"
    }
   ],
   "source": [
    "train.groupby(['Sex','Survived'])['Age'].agg('sum')"
   ]
  },
  {
   "cell_type": "code",
   "execution_count": 14,
   "metadata": {
    "scrolled": true
   },
   "outputs": [
    {
     "data": {
      "text/plain": [
       "<AxesSubplot:ylabel='Survived,Sex'>"
      ]
     },
     "execution_count": 14,
     "metadata": {},
     "output_type": "execute_result"
    },
    {
     "data": {
      "image/png": "[encoded data removed]",
      "text/plain": [
       "<Figure size 432x288 with 1 Axes>"
      ]
     },
     "metadata": {
      "needs_background": "light"
     },
     "output_type": "display_data"
    }
   ],
   "source": [
    "train.groupby(['Survived','Sex'])['Age'].agg('count').plot(kind='barh')"
   ]
  },
  {
   "cell_type": "code",
   "execution_count": 15,
   "metadata": {},
   "outputs": [
    {
     "data": {
      "text/plain": [
       "<AxesSubplot:xlabel='Survived,Pclass'>"
      ]
     },
     "execution_count": 15,
     "metadata": {},
     "output_type": "execute_result"
    },
    {
     "data": {
      "image/png": "[encoded data removed]",
      "text/plain": [
       "<Figure size 432x288 with 1 Axes>"
      ]
     },
     "metadata": {
      "needs_background": "light"
     },
     "output_type": "display_data"
    }
   ],
   "source": [
    "train.groupby(['Survived','Pclass'])['Age'].agg('count').plot(kind='bar')"
   ]
  },
  {
   "cell_type": "markdown",
   "metadata": {},
   "source": [
    "Podemos ver que los pasajeros de 3ra clase fueron los que mas perdieron la vida, tambien podemos ver que fueron mas los hombres que murieron."
   ]
  },
  {
   "cell_type": "code",
   "execution_count": 16,
   "metadata": {},
   "outputs": [],
   "source": [
    "#Tambien podemos generar una funcion que agrupe\n",
    "def graf_bar (argumento): #creamos una funcion que recibe un nombre de alguna columna puede tener el nombre que \n",
    "    #creamos las variables de acuerdo a la columna base\n",
    "    vive = train[train['Survived']==1][argumento].value_counts()\n",
    "    muere = train[train['Survived']==0][argumento].value_counts()\n",
    "    #Creamos un df con esas variables y las dejamos en el index\n",
    "    df = pd.DataFrame([vive,muere])\n",
    "    df.index = ['vive','muere']\n",
    "    #ahora podemos graficar en barras acumuladas\n",
    "    df.plot(kind='bar', stacked = True)"
   ]
  },
  {
   "cell_type": "code",
   "execution_count": 17,
   "metadata": {
    "scrolled": true
   },
   "outputs": [
    {
     "data": {
      "image/png": "[encoded data removed]",
      "text/plain": [
       "<Figure size 432x288 with 1 Axes>"
      ]
     },
     "metadata": {
      "needs_background": "light"
     },
     "output_type": "display_data"
    }
   ],
   "source": [
    "graf_bar('Sex')"
   ]
  },
  {
   "cell_type": "code",
   "execution_count": 18,
   "metadata": {},
   "outputs": [
    {
     "data": {
      "image/png": "[encoded data removed]",
      "text/plain": [
       "<Figure size 432x288 with 1 Axes>"
      ]
     },
     "metadata": {
      "needs_background": "light"
     },
     "output_type": "display_data"
    }
   ],
   "source": [
    "graf_bar('Pclass')"
   ]
  },
  {
   "cell_type": "markdown",
   "metadata": {},
   "source": [
    "## sns.barplot:\n",
    "La función a nivel de figura seaborn.catplot con el argumento kind = \"bar\" o la función a nivel de ejes seaborn.barplot generan gráficos de barras que tienen un comportamiento ligeramente diferente al habitual: normalmente un gráfico de barras muestra el recuento de valores en cada categoría. Aun cuando esta funcionalidad también está contemplada en seaborn, las funciones mencionadas van mucho más allá de un simple recuento: aplican una función que calcula una medida de tendencia central (por defecto es el valor medio) y muestran, aplicando bootstrapping, el intervalo de confianza del 95% para dicha medida."
   ]
  },
  {
   "cell_type": "code",
   "execution_count": 19,
   "metadata": {
    "scrolled": true
   },
   "outputs": [
    {
     "data": {
      "text/plain": [
       "<AxesSubplot:xlabel='Sex', ylabel='Fare'>"
      ]
     },
     "execution_count": 19,
     "metadata": {},
     "output_type": "execute_result"
    },
    {
     "data": {
      "image/png": "[encoded data removed]",
      "text/plain": [
       "<Figure size 432x288 with 1 Axes>"
      ]
     },
     "metadata": {
      "needs_background": "light"
     },
     "output_type": "display_data"
    }
   ],
   "source": [
    "sns.barplot(x='Sex', y='Fare', data=train) #valore promedio de la barra "
   ]
  },
  {
   "cell_type": "code",
   "execution_count": 20,
   "metadata": {
    "scrolled": true
   },
   "outputs": [
    {
     "data": {
      "text/html": [
       "<div>\n",
       "<style scoped>\n",
       "    .dataframe tbody tr th:only-of-type {\n",
       "        vertical-align: middle;\n",
       "    }\n",
       "\n",
       "    .dataframe tbody tr th {\n",
       "        vertical-align: top;\n",
       "    }\n",
       "\n",
       "    .dataframe thead th {\n",
       "        text-align: right;\n",
       "    }\n",
       "</style>\n",
       "<table border=\"1\" class=\"dataframe\">\n",
       "  <thead>\n",
       "    <tr style=\"text-align: right;\">\n",
       "      <th></th>\n",
       "      <th>count</th>\n",
       "      <th>mean</th>\n",
       "      <th>std</th>\n",
       "      <th>min</th>\n",
       "      <th>25%</th>\n",
       "      <th>50%</th>\n",
       "      <th>75%</th>\n",
       "      <th>max</th>\n",
       "    </tr>\n",
       "    <tr>\n",
       "      <th>Sex</th>\n",
       "      <th></th>\n",
       "      <th></th>\n",
       "      <th></th>\n",
       "      <th></th>\n",
       "      <th></th>\n",
       "      <th></th>\n",
       "      <th></th>\n",
       "      <th></th>\n",
       "    </tr>\n",
       "  </thead>\n",
       "  <tbody>\n",
       "    <tr>\n",
       "      <th>female</th>\n",
       "      <td>314.0</td>\n",
       "      <td>44.479818</td>\n",
       "      <td>57.997698</td>\n",
       "      <td>6.75</td>\n",
       "      <td>12.071875</td>\n",
       "      <td>23.0</td>\n",
       "      <td>55.00</td>\n",
       "      <td>512.3292</td>\n",
       "    </tr>\n",
       "    <tr>\n",
       "      <th>male</th>\n",
       "      <td>577.0</td>\n",
       "      <td>25.523893</td>\n",
       "      <td>43.138263</td>\n",
       "      <td>0.00</td>\n",
       "      <td>7.895800</td>\n",
       "      <td>10.5</td>\n",
       "      <td>26.55</td>\n",
       "      <td>512.3292</td>\n",
       "    </tr>\n",
       "  </tbody>\n",
       "</table>\n",
       "</div>"
      ],
      "text/plain": [
       "        count       mean        std   min        25%   50%    75%       max\n",
       "Sex                                                                        \n",
       "female  314.0  44.479818  57.997698  6.75  12.071875  23.0  55.00  512.3292\n",
       "male    577.0  25.523893  43.138263  0.00   7.895800  10.5  26.55  512.3292"
      ]
     },
     "execution_count": 20,
     "metadata": {},
     "output_type": "execute_result"
    }
   ],
   "source": [
    "train.groupby(['Sex'])['Fare'].agg('describe')"
   ]
  },
  {
   "cell_type": "code",
   "execution_count": 21,
   "metadata": {},
   "outputs": [
    {
     "name": "stderr",
     "output_type": "stream",
     "text": [
      "C:\\ProgramData\\Anaconda3\\lib\\site-packages\\seaborn\\distributions.py:2551: FutureWarning: `distplot` is a deprecated function and will be removed in a future version. Please adapt your code to use either `displot` (a figure-level function with similar flexibility) or `histplot` (an axes-level function for histograms).\n",
      "  warnings.warn(msg, FutureWarning)\n"
     ]
    },
    {
     "data": {
      "text/plain": [
       "<AxesSubplot:xlabel='Age', ylabel='Density'>"
      ]
     },
     "execution_count": 21,
     "metadata": {},
     "output_type": "execute_result"
    },
    {
     "data": {
      "image/png": "[encoded data removed]",
      "text/plain": [
       "<Figure size 432x288 with 1 Axes>"
      ]
     },
     "metadata": {
      "needs_background": "light"
     },
     "output_type": "display_data"
    }
   ],
   "source": [
    "sns.distplot(train['Age'])"
   ]
  },
  {
   "cell_type": "code",
   "execution_count": 22,
   "metadata": {
    "scrolled": true
   },
   "outputs": [
    {
     "name": "stderr",
     "output_type": "stream",
     "text": [
      "C:\\ProgramData\\Anaconda3\\lib\\site-packages\\seaborn\\categorical.py:1296: UserWarning: 6.2% of the points cannot be placed; you may want to decrease the size of the markers or use stripplot.\n",
      "  warnings.warn(msg, UserWarning)\n"
     ]
    },
    {
     "data": {
      "image/png": "[encoded data removed]",
      "text/plain": [
       "<Figure size 402.375x360 with 1 Axes>"
      ]
     },
     "metadata": {
      "needs_background": "light"
     },
     "output_type": "display_data"
    }
   ],
   "source": [
    "sns.catplot(y=\"Age\", x=\"Survived\", hue=\"Pclass\", data=train,kind=\"swarm\");\n",
    "plt.show()"
   ]
  },
  {
   "cell_type": "code",
   "execution_count": 23,
   "metadata": {
    "scrolled": true
   },
   "outputs": [
    {
     "name": "stderr",
     "output_type": "stream",
     "text": [
      "C:\\ProgramData\\Anaconda3\\lib\\site-packages\\seaborn\\categorical.py:1296: UserWarning: 6.2% of the points cannot be placed; you may want to decrease the size of the markers or use stripplot.\n",
      "  warnings.warn(msg, UserWarning)\n"
     ]
    },
    {
     "data": {
      "image/png": "[encoded data removed]",
      "text/plain": [
       "<Figure size 430.5x360 with 1 Axes>"
      ]
     },
     "metadata": {
      "needs_background": "light"
     },
     "output_type": "display_data"
    }
   ],
   "source": [
    "sns.catplot(y=\"Age\", x=\"Survived\", hue=\"Sex\", data=train,kind=\"swarm\");\n",
    "plt.show()"
   ]
  },
  {
   "cell_type": "code",
   "execution_count": 24,
   "metadata": {
    "scrolled": true
   },
   "outputs": [
    {
     "data": {
      "image/png": "[encoded data removed]",
      "text/plain": [
       "<Figure size 432x432 with 3 Axes>"
      ]
     },
     "metadata": {
      "needs_background": "light"
     },
     "output_type": "display_data"
    }
   ],
   "source": [
    "sns.jointplot(data=train, x ='Age', y ='Survived', kind='hist')\n",
    "plt.show()"
   ]
  },
  {
   "cell_type": "markdown",
   "metadata": {},
   "source": [
    "## Sin embargo si notamos existen datos que estan represetados por variables no numericas que pueden ser factores de realcion con los resultados del naufragio, es decir sobre si el pasajero sobrevive o no."
   ]
  },
  {
   "cell_type": "code",
   "execution_count": 25,
   "metadata": {
    "scrolled": false
   },
   "outputs": [
    {
     "data": {
      "text/html": [
       "<div>\n",
       "<style scoped>\n",
       "    .dataframe tbody tr th:only-of-type {\n",
       "        vertical-align: middle;\n",
       "    }\n",
       "\n",
       "    .dataframe tbody tr th {\n",
       "        vertical-align: top;\n",
       "    }\n",
       "\n",
       "    .dataframe thead th {\n",
       "        text-align: right;\n",
       "    }\n",
       "</style>\n",
       "<table border=\"1\" class=\"dataframe\">\n",
       "  <thead>\n",
       "    <tr style=\"text-align: right;\">\n",
       "      <th></th>\n",
       "      <th>PassengerId</th>\n",
       "      <th>Survived</th>\n",
       "      <th>Pclass</th>\n",
       "      <th>Name</th>\n",
       "      <th>Sex</th>\n",
       "      <th>Age</th>\n",
       "      <th>SibSp</th>\n",
       "      <th>Parch</th>\n",
       "      <th>Fare</th>\n",
       "      <th>Embarked</th>\n",
       "    </tr>\n",
       "  </thead>\n",
       "  <tbody>\n",
       "    <tr>\n",
       "      <th>0</th>\n",
       "      <td>1</td>\n",
       "      <td>0</td>\n",
       "      <td>3</td>\n",
       "      <td>Braund, Mr. Owen Harris</td>\n",
       "      <td>male</td>\n",
       "      <td>22.0</td>\n",
       "      <td>1</td>\n",
       "      <td>0</td>\n",
       "      <td>7.2500</td>\n",
       "      <td>S</td>\n",
       "    </tr>\n",
       "    <tr>\n",
       "      <th>1</th>\n",
       "      <td>2</td>\n",
       "      <td>1</td>\n",
       "      <td>1</td>\n",
       "      <td>Cumings, Mrs. John Bradley (Florence Briggs Th...</td>\n",
       "      <td>female</td>\n",
       "      <td>38.0</td>\n",
       "      <td>1</td>\n",
       "      <td>0</td>\n",
       "      <td>71.2833</td>\n",
       "      <td>C</td>\n",
       "    </tr>\n",
       "    <tr>\n",
       "      <th>2</th>\n",
       "      <td>3</td>\n",
       "      <td>1</td>\n",
       "      <td>3</td>\n",
       "      <td>Heikkinen, Miss. Laina</td>\n",
       "      <td>female</td>\n",
       "      <td>26.0</td>\n",
       "      <td>0</td>\n",
       "      <td>0</td>\n",
       "      <td>7.9250</td>\n",
       "      <td>S</td>\n",
       "    </tr>\n",
       "    <tr>\n",
       "      <th>3</th>\n",
       "      <td>4</td>\n",
       "      <td>1</td>\n",
       "      <td>1</td>\n",
       "      <td>Futrelle, Mrs. Jacques Heath (Lily May Peel)</td>\n",
       "      <td>female</td>\n",
       "      <td>35.0</td>\n",
       "      <td>1</td>\n",
       "      <td>0</td>\n",
       "      <td>53.1000</td>\n",
       "      <td>S</td>\n",
       "    </tr>\n",
       "    <tr>\n",
       "      <th>4</th>\n",
       "      <td>5</td>\n",
       "      <td>0</td>\n",
       "      <td>3</td>\n",
       "      <td>Allen, Mr. William Henry</td>\n",
       "      <td>male</td>\n",
       "      <td>35.0</td>\n",
       "      <td>0</td>\n",
       "      <td>0</td>\n",
       "      <td>8.0500</td>\n",
       "      <td>S</td>\n",
       "    </tr>\n",
       "  </tbody>\n",
       "</table>\n",
       "</div>"
      ],
      "text/plain": [
       "   PassengerId  Survived  Pclass  \\\n",
       "0            1         0       3   \n",
       "1            2         1       1   \n",
       "2            3         1       3   \n",
       "3            4         1       1   \n",
       "4            5         0       3   \n",
       "\n",
       "                                                Name     Sex   Age  SibSp  \\\n",
       "0                            Braund, Mr. Owen Harris    male  22.0      1   \n",
       "1  Cumings, Mrs. John Bradley (Florence Briggs Th...  female  38.0      1   \n",
       "2                             Heikkinen, Miss. Laina  female  26.0      0   \n",
       "3       Futrelle, Mrs. Jacques Heath (Lily May Peel)  female  35.0      1   \n",
       "4                           Allen, Mr. William Henry    male  35.0      0   \n",
       "\n",
       "   Parch     Fare Embarked  \n",
       "0      0   7.2500        S  \n",
       "1      0  71.2833        C  \n",
       "2      0   7.9250        S  \n",
       "3      0  53.1000        S  \n",
       "4      0   8.0500        S  "
      ]
     },
     "execution_count": 25,
     "metadata": {},
     "output_type": "execute_result"
    }
   ],
   "source": [
    "train.head()"
   ]
  },
  {
   "cell_type": "markdown",
   "metadata": {},
   "source": [
    "Lo que haremos primero es transformar las variables Sex y Embarked en var categoricas"
   ]
  },
  {
   "cell_type": "code",
   "execution_count": 317,
   "metadata": {},
   "outputs": [],
   "source": [
    "#importamos los datos pasamos el id de pasajero como index\n",
    "train = pd.read_csv(r'data\\train.csv')\n",
    "test = pd.read_csv(r'data\\test.csv')\n",
    "\n",
    "\n",
    "\n",
    "# exiten varias formar de transformar datos \n",
    "train['Sex'].replace(['female','male'],[0,1],inplace=True)\n",
    "train['Embarked'].replace(['Q','S', 'C'],[0,1,2],inplace=True)\n",
    "\n",
    "#para la data test\n",
    "test['Sex'].replace(['female','male'],[0,1],inplace=True)\n",
    "test['Embarked'].replace(['Q','S', 'C'],[0,1,2],inplace=True)"
   ]
  },
  {
   "cell_type": "code",
   "execution_count": 318,
   "metadata": {},
   "outputs": [],
   "source": [
    "#Eliminaremos la calumna\n",
    "train = train.drop(['PassengerId','Name','Ticket','Cabin'],axis=1)\n",
    "\n",
    "test = test.drop(['Name','Ticket','Cabin'],axis=1)"
   ]
  },
  {
   "cell_type": "code",
   "execution_count": 319,
   "metadata": {},
   "outputs": [],
   "source": [
    "# #utulizamos el metodo sklearn que nos permite entrenar algunos modelos regresivos, asigna variables de manear aleatoriatrain\n",
    "# from sklearn.preprocessing import LabelEncoder\n",
    "# labelencoder=LabelEncoder()\n",
    "# train['Sex']=labelencoder.fit_transform(train['Sex'].values)\n",
    "# train['Sex'].unique()\n",
    "# #transformamos lo datos a valores para luego interpolar sobre los datos nulos\n",
    "# labelencoder=LabelEncoder()\n",
    "# train['Embarked']=labelencoder.fit_transform(train['Embarked'].astype(str))\n",
    "# train['Embarked'].unique()"
   ]
  },
  {
   "cell_type": "code",
   "execution_count": 320,
   "metadata": {
    "scrolled": false
   },
   "outputs": [
    {
     "data": {
      "text/html": [
       "<div>\n",
       "<style scoped>\n",
       "    .dataframe tbody tr th:only-of-type {\n",
       "        vertical-align: middle;\n",
       "    }\n",
       "\n",
       "    .dataframe tbody tr th {\n",
       "        vertical-align: top;\n",
       "    }\n",
       "\n",
       "    .dataframe thead th {\n",
       "        text-align: right;\n",
       "    }\n",
       "</style>\n",
       "<table border=\"1\" class=\"dataframe\">\n",
       "  <thead>\n",
       "    <tr style=\"text-align: right;\">\n",
       "      <th></th>\n",
       "      <th>Survived</th>\n",
       "      <th>Pclass</th>\n",
       "      <th>Sex</th>\n",
       "      <th>Age</th>\n",
       "      <th>SibSp</th>\n",
       "      <th>Parch</th>\n",
       "      <th>Fare</th>\n",
       "      <th>Embarked</th>\n",
       "    </tr>\n",
       "  </thead>\n",
       "  <tbody>\n",
       "    <tr>\n",
       "      <th>0</th>\n",
       "      <td>0</td>\n",
       "      <td>3</td>\n",
       "      <td>1</td>\n",
       "      <td>22.0</td>\n",
       "      <td>1</td>\n",
       "      <td>0</td>\n",
       "      <td>7.2500</td>\n",
       "      <td>1.0</td>\n",
       "    </tr>\n",
       "    <tr>\n",
       "      <th>1</th>\n",
       "      <td>1</td>\n",
       "      <td>1</td>\n",
       "      <td>0</td>\n",
       "      <td>38.0</td>\n",
       "      <td>1</td>\n",
       "      <td>0</td>\n",
       "      <td>71.2833</td>\n",
       "      <td>2.0</td>\n",
       "    </tr>\n",
       "    <tr>\n",
       "      <th>2</th>\n",
       "      <td>1</td>\n",
       "      <td>3</td>\n",
       "      <td>0</td>\n",
       "      <td>26.0</td>\n",
       "      <td>0</td>\n",
       "      <td>0</td>\n",
       "      <td>7.9250</td>\n",
       "      <td>1.0</td>\n",
       "    </tr>\n",
       "    <tr>\n",
       "      <th>3</th>\n",
       "      <td>1</td>\n",
       "      <td>1</td>\n",
       "      <td>0</td>\n",
       "      <td>35.0</td>\n",
       "      <td>1</td>\n",
       "      <td>0</td>\n",
       "      <td>53.1000</td>\n",
       "      <td>1.0</td>\n",
       "    </tr>\n",
       "    <tr>\n",
       "      <th>4</th>\n",
       "      <td>0</td>\n",
       "      <td>3</td>\n",
       "      <td>1</td>\n",
       "      <td>35.0</td>\n",
       "      <td>0</td>\n",
       "      <td>0</td>\n",
       "      <td>8.0500</td>\n",
       "      <td>1.0</td>\n",
       "    </tr>\n",
       "  </tbody>\n",
       "</table>\n",
       "</div>"
      ],
      "text/plain": [
       "   Survived  Pclass  Sex   Age  SibSp  Parch     Fare  Embarked\n",
       "0         0       3    1  22.0      1      0   7.2500       1.0\n",
       "1         1       1    0  38.0      1      0  71.2833       2.0\n",
       "2         1       3    0  26.0      0      0   7.9250       1.0\n",
       "3         1       1    0  35.0      1      0  53.1000       1.0\n",
       "4         0       3    1  35.0      0      0   8.0500       1.0"
      ]
     },
     "execution_count": 320,
     "metadata": {},
     "output_type": "execute_result"
    }
   ],
   "source": [
    "train.head()"
   ]
  },
  {
   "cell_type": "code",
   "execution_count": 321,
   "metadata": {
    "scrolled": true
   },
   "outputs": [
    {
     "data": {
      "text/plain": [
       "Survived      0\n",
       "Pclass        0\n",
       "Sex           0\n",
       "Age         177\n",
       "SibSp         0\n",
       "Parch         0\n",
       "Fare          0\n",
       "Embarked      2\n",
       "dtype: int64"
      ]
     },
     "execution_count": 321,
     "metadata": {},
     "output_type": "execute_result"
    }
   ],
   "source": [
    "#ahora podemos revisar los datos nulos para saber que hacemos con ellos\n",
    "#seria interesanta saber por que faltan edades en el data\n",
    "train.isna().sum()"
   ]
  },
  {
   "cell_type": "code",
   "execution_count": 322,
   "metadata": {},
   "outputs": [
    {
     "data": {
      "text/plain": [
       "29.69911764705882"
      ]
     },
     "execution_count": 322,
     "metadata": {},
     "output_type": "execute_result"
    }
   ],
   "source": [
    "train['Age'].mean()"
   ]
  },
  {
   "cell_type": "code",
   "execution_count": 323,
   "metadata": {
    "scrolled": false
   },
   "outputs": [],
   "source": [
    "#Remplazamos los datos nulos por la mediana en cafa caso\n",
    "train['Age'].fillna(train['Age'].mean(), inplace=True)\n",
    "train['Embarked'].fillna(train['Embarked'].median(), inplace=True)\n",
    "train['Fare'].fillna(train['Fare'].median(), inplace=True)\n",
    "\n",
    "\n",
    "test['Age'].fillna(test['Age'].mean(), inplace=True)\n",
    "test['Embarked'].fillna(test['Embarked'].median(), inplace=True)\n",
    "test['Fare'].fillna(test['Fare'].median(), inplace=True)\n"
   ]
  },
  {
   "cell_type": "code",
   "execution_count": 324,
   "metadata": {
    "scrolled": true
   },
   "outputs": [
    {
     "data": {
      "text/plain": [
       "Survived    0\n",
       "Pclass      0\n",
       "Sex         0\n",
       "Age         0\n",
       "SibSp       0\n",
       "Parch       0\n",
       "Fare        0\n",
       "Embarked    0\n",
       "dtype: int64"
      ]
     },
     "execution_count": 324,
     "metadata": {},
     "output_type": "execute_result"
    }
   ],
   "source": [
    "train.isna().sum()"
   ]
  },
  {
   "cell_type": "markdown",
   "metadata": {},
   "source": [
    "Podemos ver que existia un capitan e incluso una condesa abordo del barco"
   ]
  },
  {
   "cell_type": "code",
   "execution_count": 325,
   "metadata": {},
   "outputs": [
    {
     "data": {
      "text/plain": [
       "<AxesSubplot:>"
      ]
     },
     "execution_count": 325,
     "metadata": {},
     "output_type": "execute_result"
    },
    {
     "data": {
      "image/png": "[encoded data removed]",
      "text/plain": [
       "<Figure size 432x288 with 1 Axes>"
      ]
     },
     "metadata": {
      "needs_background": "light"
     },
     "output_type": "display_data"
    }
   ],
   "source": [
    "train['Age'].hist(bins=100)"
   ]
  },
  {
   "cell_type": "code",
   "execution_count": 326,
   "metadata": {
    "scrolled": false
   },
   "outputs": [
    {
     "name": "stderr",
     "output_type": "stream",
     "text": [
      "C:\\ProgramData\\Anaconda3\\lib\\site-packages\\seaborn\\distributions.py:2551: FutureWarning: `distplot` is a deprecated function and will be removed in a future version. Please adapt your code to use either `displot` (a figure-level function with similar flexibility) or `histplot` (an axes-level function for histograms).\n",
      "  warnings.warn(msg, FutureWarning)\n"
     ]
    },
    {
     "data": {
      "text/plain": [
       "<AxesSubplot:xlabel='Age', ylabel='Density'>"
      ]
     },
     "execution_count": 326,
     "metadata": {},
     "output_type": "execute_result"
    },
    {
     "data": {
      "image/png": "[encoded data removed]",
      "text/plain": [
       "<Figure size 432x288 with 1 Axes>"
      ]
     },
     "metadata": {
      "needs_background": "light"
     },
     "output_type": "display_data"
    }
   ],
   "source": [
    "sns.distplot(train['Age'])"
   ]
  },
  {
   "cell_type": "code",
   "execution_count": 327,
   "metadata": {
    "scrolled": true
   },
   "outputs": [
    {
     "data": {
      "text/html": [
       "<style  type=\"text/css\" >\n",
       "#T_577b6fff_9da4_11eb_9ea0_409f383a27f6row0_col0,#T_577b6fff_9da4_11eb_9ea0_409f383a27f6row1_col1,#T_577b6fff_9da4_11eb_9ea0_409f383a27f6row2_col2,#T_577b6fff_9da4_11eb_9ea0_409f383a27f6row3_col3,#T_577b6fff_9da4_11eb_9ea0_409f383a27f6row4_col4,#T_577b6fff_9da4_11eb_9ea0_409f383a27f6row5_col5,#T_577b6fff_9da4_11eb_9ea0_409f383a27f6row6_col6,#T_577b6fff_9da4_11eb_9ea0_409f383a27f6row7_col7{\n",
       "            background-color:  #023858;\n",
       "            color:  #f1f1f1;\n",
       "        }#T_577b6fff_9da4_11eb_9ea0_409f383a27f6row0_col1{\n",
       "            background-color:  #afc1dd;\n",
       "            color:  #000000;\n",
       "        }#T_577b6fff_9da4_11eb_9ea0_409f383a27f6row0_col2{\n",
       "            background-color:  #e0dded;\n",
       "            color:  #000000;\n",
       "        }#T_577b6fff_9da4_11eb_9ea0_409f383a27f6row0_col3{\n",
       "            background-color:  #c5cce3;\n",
       "            color:  #000000;\n",
       "        }#T_577b6fff_9da4_11eb_9ea0_409f383a27f6row0_col4{\n",
       "            background-color:  #f1ebf4;\n",
       "            color:  #000000;\n",
       "        }#T_577b6fff_9da4_11eb_9ea0_409f383a27f6row0_col5{\n",
       "            background-color:  #e1dfed;\n",
       "            color:  #000000;\n",
       "        }#T_577b6fff_9da4_11eb_9ea0_409f383a27f6row0_col6{\n",
       "            background-color:  #a7bddb;\n",
       "            color:  #000000;\n",
       "        }#T_577b6fff_9da4_11eb_9ea0_409f383a27f6row0_col7{\n",
       "            background-color:  #c9cee4;\n",
       "            color:  #000000;\n",
       "        }#T_577b6fff_9da4_11eb_9ea0_409f383a27f6row1_col0{\n",
       "            background-color:  #fef6fb;\n",
       "            color:  #000000;\n",
       "        }#T_577b6fff_9da4_11eb_9ea0_409f383a27f6row1_col2,#T_577b6fff_9da4_11eb_9ea0_409f383a27f6row4_col3{\n",
       "            background-color:  #d0d1e6;\n",
       "            color:  #000000;\n",
       "        }#T_577b6fff_9da4_11eb_9ea0_409f383a27f6row1_col3,#T_577b6fff_9da4_11eb_9ea0_409f383a27f6row1_col6,#T_577b6fff_9da4_11eb_9ea0_409f383a27f6row1_col7,#T_577b6fff_9da4_11eb_9ea0_409f383a27f6row2_col4,#T_577b6fff_9da4_11eb_9ea0_409f383a27f6row2_col5,#T_577b6fff_9da4_11eb_9ea0_409f383a27f6row3_col0,#T_577b6fff_9da4_11eb_9ea0_409f383a27f6row6_col1,#T_577b6fff_9da4_11eb_9ea0_409f383a27f6row6_col2{\n",
       "            background-color:  #fff7fb;\n",
       "            color:  #000000;\n",
       "        }#T_577b6fff_9da4_11eb_9ea0_409f383a27f6row1_col4{\n",
       "            background-color:  #f1ebf5;\n",
       "            color:  #000000;\n",
       "        }#T_577b6fff_9da4_11eb_9ea0_409f383a27f6row1_col5{\n",
       "            background-color:  #e6e2ef;\n",
       "            color:  #000000;\n",
       "        }#T_577b6fff_9da4_11eb_9ea0_409f383a27f6row2_col0{\n",
       "            background-color:  #f7f0f7;\n",
       "            color:  #000000;\n",
       "        }#T_577b6fff_9da4_11eb_9ea0_409f383a27f6row2_col1{\n",
       "            background-color:  #8eb3d5;\n",
       "            color:  #000000;\n",
       "        }#T_577b6fff_9da4_11eb_9ea0_409f383a27f6row2_col3{\n",
       "            background-color:  #bdc8e1;\n",
       "            color:  #000000;\n",
       "        }#T_577b6fff_9da4_11eb_9ea0_409f383a27f6row2_col6{\n",
       "            background-color:  #d2d2e7;\n",
       "            color:  #000000;\n",
       "        }#T_577b6fff_9da4_11eb_9ea0_409f383a27f6row2_col7{\n",
       "            background-color:  #c0c9e2;\n",
       "            color:  #000000;\n",
       "        }#T_577b6fff_9da4_11eb_9ea0_409f383a27f6row3_col1{\n",
       "            background-color:  #f2ecf5;\n",
       "            color:  #000000;\n",
       "        }#T_577b6fff_9da4_11eb_9ea0_409f383a27f6row3_col2{\n",
       "            background-color:  #e4e1ef;\n",
       "            color:  #000000;\n",
       "        }#T_577b6fff_9da4_11eb_9ea0_409f383a27f6row3_col4{\n",
       "            background-color:  #fdf5fa;\n",
       "            color:  #000000;\n",
       "        }#T_577b6fff_9da4_11eb_9ea0_409f383a27f6row3_col5{\n",
       "            background-color:  #f0eaf4;\n",
       "            color:  #000000;\n",
       "        }#T_577b6fff_9da4_11eb_9ea0_409f383a27f6row3_col6{\n",
       "            background-color:  #509ac6;\n",
       "            color:  #000000;\n",
       "        }#T_577b6fff_9da4_11eb_9ea0_409f383a27f6row3_col7,#T_577b6fff_9da4_11eb_9ea0_409f383a27f6row4_col1{\n",
       "            background-color:  #a9bfdc;\n",
       "            color:  #000000;\n",
       "        }#T_577b6fff_9da4_11eb_9ea0_409f383a27f6row4_col0{\n",
       "            background-color:  #faf3f9;\n",
       "            color:  #000000;\n",
       "        }#T_577b6fff_9da4_11eb_9ea0_409f383a27f6row4_col2{\n",
       "            background-color:  #f4edf6;\n",
       "            color:  #000000;\n",
       "        }#T_577b6fff_9da4_11eb_9ea0_409f383a27f6row4_col5{\n",
       "            background-color:  #9cb9d9;\n",
       "            color:  #000000;\n",
       "        }#T_577b6fff_9da4_11eb_9ea0_409f383a27f6row4_col6{\n",
       "            background-color:  #7eadd1;\n",
       "            color:  #000000;\n",
       "        }#T_577b6fff_9da4_11eb_9ea0_409f383a27f6row4_col7{\n",
       "            background-color:  #bfc9e1;\n",
       "            color:  #000000;\n",
       "        }#T_577b6fff_9da4_11eb_9ea0_409f383a27f6row5_col0{\n",
       "            background-color:  #f4eef6;\n",
       "            color:  #000000;\n",
       "        }#T_577b6fff_9da4_11eb_9ea0_409f383a27f6row5_col1{\n",
       "            background-color:  #a5bddb;\n",
       "            color:  #000000;\n",
       "        }#T_577b6fff_9da4_11eb_9ea0_409f383a27f6row5_col2,#T_577b6fff_9da4_11eb_9ea0_409f383a27f6row7_col0{\n",
       "            background-color:  #fbf3f9;\n",
       "            color:  #000000;\n",
       "        }#T_577b6fff_9da4_11eb_9ea0_409f383a27f6row5_col3{\n",
       "            background-color:  #c8cde4;\n",
       "            color:  #000000;\n",
       "        }#T_577b6fff_9da4_11eb_9ea0_409f383a27f6row5_col4{\n",
       "            background-color:  #a8bedc;\n",
       "            color:  #000000;\n",
       "        }#T_577b6fff_9da4_11eb_9ea0_409f383a27f6row5_col6{\n",
       "            background-color:  #6da6cd;\n",
       "            color:  #000000;\n",
       "        }#T_577b6fff_9da4_11eb_9ea0_409f383a27f6row5_col7{\n",
       "            background-color:  #b8c6e0;\n",
       "            color:  #000000;\n",
       "        }#T_577b6fff_9da4_11eb_9ea0_409f383a27f6row6_col0{\n",
       "            background-color:  #faf2f8;\n",
       "            color:  #000000;\n",
       "        }#T_577b6fff_9da4_11eb_9ea0_409f383a27f6row6_col3{\n",
       "            background-color:  #65a3cb;\n",
       "            color:  #000000;\n",
       "        }#T_577b6fff_9da4_11eb_9ea0_409f383a27f6row6_col4{\n",
       "            background-color:  #d1d2e6;\n",
       "            color:  #000000;\n",
       "        }#T_577b6fff_9da4_11eb_9ea0_409f383a27f6row6_col5{\n",
       "            background-color:  #b3c3de;\n",
       "            color:  #000000;\n",
       "        }#T_577b6fff_9da4_11eb_9ea0_409f383a27f6row6_col7{\n",
       "            background-color:  #73a9cf;\n",
       "            color:  #000000;\n",
       "        }#T_577b6fff_9da4_11eb_9ea0_409f383a27f6row7_col1{\n",
       "            background-color:  #ebe6f2;\n",
       "            color:  #000000;\n",
       "        }#T_577b6fff_9da4_11eb_9ea0_409f383a27f6row7_col2{\n",
       "            background-color:  #dddbec;\n",
       "            color:  #000000;\n",
       "        }#T_577b6fff_9da4_11eb_9ea0_409f383a27f6row7_col3{\n",
       "            background-color:  #9fbad9;\n",
       "            color:  #000000;\n",
       "        }#T_577b6fff_9da4_11eb_9ea0_409f383a27f6row7_col4{\n",
       "            background-color:  #ece7f2;\n",
       "            color:  #000000;\n",
       "        }#T_577b6fff_9da4_11eb_9ea0_409f383a27f6row7_col5{\n",
       "            background-color:  #dcdaeb;\n",
       "            color:  #000000;\n",
       "        }#T_577b6fff_9da4_11eb_9ea0_409f383a27f6row7_col6{\n",
       "            background-color:  #549cc7;\n",
       "            color:  #000000;\n",
       "        }</style><table id=\"T_577b6fff_9da4_11eb_9ea0_409f383a27f6\" ><thead>    <tr>        <th class=\"blank level0\" ></th>        <th class=\"col_heading level0 col0\" >PassengerId</th>        <th class=\"col_heading level0 col1\" >Pclass</th>        <th class=\"col_heading level0 col2\" >Sex</th>        <th class=\"col_heading level0 col3\" >Age</th>        <th class=\"col_heading level0 col4\" >SibSp</th>        <th class=\"col_heading level0 col5\" >Parch</th>        <th class=\"col_heading level0 col6\" >Fare</th>        <th class=\"col_heading level0 col7\" >Embarked</th>    </tr></thead><tbody>\n",
       "                <tr>\n",
       "                        <th id=\"T_577b6fff_9da4_11eb_9ea0_409f383a27f6level0_row0\" class=\"row_heading level0 row0\" >PassengerId</th>\n",
       "                        <td id=\"T_577b6fff_9da4_11eb_9ea0_409f383a27f6row0_col0\" class=\"data row0 col0\" >1.000000</td>\n",
       "                        <td id=\"T_577b6fff_9da4_11eb_9ea0_409f383a27f6row0_col1\" class=\"data row0 col1\" >-0.026751</td>\n",
       "                        <td id=\"T_577b6fff_9da4_11eb_9ea0_409f383a27f6row0_col2\" class=\"data row0 col2\" >0.023245</td>\n",
       "                        <td id=\"T_577b6fff_9da4_11eb_9ea0_409f383a27f6row0_col3\" class=\"data row0 col3\" >-0.030874</td>\n",
       "                        <td id=\"T_577b6fff_9da4_11eb_9ea0_409f383a27f6row0_col4\" class=\"data row0 col4\" >0.003818</td>\n",
       "                        <td id=\"T_577b6fff_9da4_11eb_9ea0_409f383a27f6row0_col5\" class=\"data row0 col5\" >0.043080</td>\n",
       "                        <td id=\"T_577b6fff_9da4_11eb_9ea0_409f383a27f6row0_col6\" class=\"data row0 col6\" >0.008633</td>\n",
       "                        <td id=\"T_577b6fff_9da4_11eb_9ea0_409f383a27f6row0_col7\" class=\"data row0 col7\" >-0.001026</td>\n",
       "            </tr>\n",
       "            <tr>\n",
       "                        <th id=\"T_577b6fff_9da4_11eb_9ea0_409f383a27f6level0_row1\" class=\"row_heading level0 row1\" >Pclass</th>\n",
       "                        <td id=\"T_577b6fff_9da4_11eb_9ea0_409f383a27f6row1_col0\" class=\"data row1 col0\" >-0.026751</td>\n",
       "                        <td id=\"T_577b6fff_9da4_11eb_9ea0_409f383a27f6row1_col1\" class=\"data row1 col1\" >1.000000</td>\n",
       "                        <td id=\"T_577b6fff_9da4_11eb_9ea0_409f383a27f6row1_col2\" class=\"data row1 col2\" >0.108615</td>\n",
       "                        <td id=\"T_577b6fff_9da4_11eb_9ea0_409f383a27f6row1_col3\" class=\"data row1 col3\" >-0.440782</td>\n",
       "                        <td id=\"T_577b6fff_9da4_11eb_9ea0_409f383a27f6row1_col4\" class=\"data row1 col4\" >0.001087</td>\n",
       "                        <td id=\"T_577b6fff_9da4_11eb_9ea0_409f383a27f6row1_col5\" class=\"data row1 col5\" >0.018721</td>\n",
       "                        <td id=\"T_577b6fff_9da4_11eb_9ea0_409f383a27f6row1_col6\" class=\"data row1 col6\" >-0.577313</td>\n",
       "                        <td id=\"T_577b6fff_9da4_11eb_9ea0_409f383a27f6row1_col7\" class=\"data row1 col7\" >-0.372344</td>\n",
       "            </tr>\n",
       "            <tr>\n",
       "                        <th id=\"T_577b6fff_9da4_11eb_9ea0_409f383a27f6level0_row2\" class=\"row_heading level0 row2\" >Sex</th>\n",
       "                        <td id=\"T_577b6fff_9da4_11eb_9ea0_409f383a27f6row2_col0\" class=\"data row2 col0\" >0.023245</td>\n",
       "                        <td id=\"T_577b6fff_9da4_11eb_9ea0_409f383a27f6row2_col1\" class=\"data row2 col1\" >0.108615</td>\n",
       "                        <td id=\"T_577b6fff_9da4_11eb_9ea0_409f383a27f6row2_col2\" class=\"data row2 col2\" >1.000000</td>\n",
       "                        <td id=\"T_577b6fff_9da4_11eb_9ea0_409f383a27f6row2_col3\" class=\"data row2 col3\" >0.000011</td>\n",
       "                        <td id=\"T_577b6fff_9da4_11eb_9ea0_409f383a27f6row2_col4\" class=\"data row2 col4\" >-0.099943</td>\n",
       "                        <td id=\"T_577b6fff_9da4_11eb_9ea0_409f383a27f6row2_col5\" class=\"data row2 col5\" >-0.159120</td>\n",
       "                        <td id=\"T_577b6fff_9da4_11eb_9ea0_409f383a27f6row2_col6\" class=\"data row2 col6\" >-0.192036</td>\n",
       "                        <td id=\"T_577b6fff_9da4_11eb_9ea0_409f383a27f6row2_col7\" class=\"data row2 col7\" >0.037432</td>\n",
       "            </tr>\n",
       "            <tr>\n",
       "                        <th id=\"T_577b6fff_9da4_11eb_9ea0_409f383a27f6level0_row3\" class=\"row_heading level0 row3\" >Age</th>\n",
       "                        <td id=\"T_577b6fff_9da4_11eb_9ea0_409f383a27f6row3_col0\" class=\"data row3 col0\" >-0.030874</td>\n",
       "                        <td id=\"T_577b6fff_9da4_11eb_9ea0_409f383a27f6row3_col1\" class=\"data row3 col1\" >-0.440782</td>\n",
       "                        <td id=\"T_577b6fff_9da4_11eb_9ea0_409f383a27f6row3_col2\" class=\"data row3 col2\" >0.000011</td>\n",
       "                        <td id=\"T_577b6fff_9da4_11eb_9ea0_409f383a27f6row3_col3\" class=\"data row3 col3\" >1.000000</td>\n",
       "                        <td id=\"T_577b6fff_9da4_11eb_9ea0_409f383a27f6row3_col4\" class=\"data row3 col4\" >-0.079535</td>\n",
       "                        <td id=\"T_577b6fff_9da4_11eb_9ea0_409f383a27f6row3_col5\" class=\"data row3 col5\" >-0.045073</td>\n",
       "                        <td id=\"T_577b6fff_9da4_11eb_9ea0_409f383a27f6row3_col6\" class=\"data row3 col6\" >0.324568</td>\n",
       "                        <td id=\"T_577b6fff_9da4_11eb_9ea0_409f383a27f6row3_col7\" class=\"data row3 col7\" >0.126594</td>\n",
       "            </tr>\n",
       "            <tr>\n",
       "                        <th id=\"T_577b6fff_9da4_11eb_9ea0_409f383a27f6level0_row4\" class=\"row_heading level0 row4\" >SibSp</th>\n",
       "                        <td id=\"T_577b6fff_9da4_11eb_9ea0_409f383a27f6row4_col0\" class=\"data row4 col0\" >0.003818</td>\n",
       "                        <td id=\"T_577b6fff_9da4_11eb_9ea0_409f383a27f6row4_col1\" class=\"data row4 col1\" >0.001087</td>\n",
       "                        <td id=\"T_577b6fff_9da4_11eb_9ea0_409f383a27f6row4_col2\" class=\"data row4 col2\" >-0.099943</td>\n",
       "                        <td id=\"T_577b6fff_9da4_11eb_9ea0_409f383a27f6row4_col3\" class=\"data row4 col3\" >-0.079535</td>\n",
       "                        <td id=\"T_577b6fff_9da4_11eb_9ea0_409f383a27f6row4_col4\" class=\"data row4 col4\" >1.000000</td>\n",
       "                        <td id=\"T_577b6fff_9da4_11eb_9ea0_409f383a27f6row4_col5\" class=\"data row4 col5\" >0.306895</td>\n",
       "                        <td id=\"T_577b6fff_9da4_11eb_9ea0_409f383a27f6row4_col6\" class=\"data row4 col6\" >0.171912</td>\n",
       "                        <td id=\"T_577b6fff_9da4_11eb_9ea0_409f383a27f6row4_col7\" class=\"data row4 col7\" >0.041221</td>\n",
       "            </tr>\n",
       "            <tr>\n",
       "                        <th id=\"T_577b6fff_9da4_11eb_9ea0_409f383a27f6level0_row5\" class=\"row_heading level0 row5\" >Parch</th>\n",
       "                        <td id=\"T_577b6fff_9da4_11eb_9ea0_409f383a27f6row5_col0\" class=\"data row5 col0\" >0.043080</td>\n",
       "                        <td id=\"T_577b6fff_9da4_11eb_9ea0_409f383a27f6row5_col1\" class=\"data row5 col1\" >0.018721</td>\n",
       "                        <td id=\"T_577b6fff_9da4_11eb_9ea0_409f383a27f6row5_col2\" class=\"data row5 col2\" >-0.159120</td>\n",
       "                        <td id=\"T_577b6fff_9da4_11eb_9ea0_409f383a27f6row5_col3\" class=\"data row5 col3\" >-0.045073</td>\n",
       "                        <td id=\"T_577b6fff_9da4_11eb_9ea0_409f383a27f6row5_col4\" class=\"data row5 col4\" >0.306895</td>\n",
       "                        <td id=\"T_577b6fff_9da4_11eb_9ea0_409f383a27f6row5_col5\" class=\"data row5 col5\" >1.000000</td>\n",
       "                        <td id=\"T_577b6fff_9da4_11eb_9ea0_409f383a27f6row5_col6\" class=\"data row5 col6\" >0.230325</td>\n",
       "                        <td id=\"T_577b6fff_9da4_11eb_9ea0_409f383a27f6row5_col7\" class=\"data row5 col7\" >0.067474</td>\n",
       "            </tr>\n",
       "            <tr>\n",
       "                        <th id=\"T_577b6fff_9da4_11eb_9ea0_409f383a27f6level0_row6\" class=\"row_heading level0 row6\" >Fare</th>\n",
       "                        <td id=\"T_577b6fff_9da4_11eb_9ea0_409f383a27f6row6_col0\" class=\"data row6 col0\" >0.008633</td>\n",
       "                        <td id=\"T_577b6fff_9da4_11eb_9ea0_409f383a27f6row6_col1\" class=\"data row6 col1\" >-0.577313</td>\n",
       "                        <td id=\"T_577b6fff_9da4_11eb_9ea0_409f383a27f6row6_col2\" class=\"data row6 col2\" >-0.192036</td>\n",
       "                        <td id=\"T_577b6fff_9da4_11eb_9ea0_409f383a27f6row6_col3\" class=\"data row6 col3\" >0.324568</td>\n",
       "                        <td id=\"T_577b6fff_9da4_11eb_9ea0_409f383a27f6row6_col4\" class=\"data row6 col4\" >0.171912</td>\n",
       "                        <td id=\"T_577b6fff_9da4_11eb_9ea0_409f383a27f6row6_col5\" class=\"data row6 col5\" >0.230325</td>\n",
       "                        <td id=\"T_577b6fff_9da4_11eb_9ea0_409f383a27f6row6_col6\" class=\"data row6 col6\" >1.000000</td>\n",
       "                        <td id=\"T_577b6fff_9da4_11eb_9ea0_409f383a27f6row6_col7\" class=\"data row6 col7\" >0.315285</td>\n",
       "            </tr>\n",
       "            <tr>\n",
       "                        <th id=\"T_577b6fff_9da4_11eb_9ea0_409f383a27f6level0_row7\" class=\"row_heading level0 row7\" >Embarked</th>\n",
       "                        <td id=\"T_577b6fff_9da4_11eb_9ea0_409f383a27f6row7_col0\" class=\"data row7 col0\" >-0.001026</td>\n",
       "                        <td id=\"T_577b6fff_9da4_11eb_9ea0_409f383a27f6row7_col1\" class=\"data row7 col1\" >-0.372344</td>\n",
       "                        <td id=\"T_577b6fff_9da4_11eb_9ea0_409f383a27f6row7_col2\" class=\"data row7 col2\" >0.037432</td>\n",
       "                        <td id=\"T_577b6fff_9da4_11eb_9ea0_409f383a27f6row7_col3\" class=\"data row7 col3\" >0.126594</td>\n",
       "                        <td id=\"T_577b6fff_9da4_11eb_9ea0_409f383a27f6row7_col4\" class=\"data row7 col4\" >0.041221</td>\n",
       "                        <td id=\"T_577b6fff_9da4_11eb_9ea0_409f383a27f6row7_col5\" class=\"data row7 col5\" >0.067474</td>\n",
       "                        <td id=\"T_577b6fff_9da4_11eb_9ea0_409f383a27f6row7_col6\" class=\"data row7 col6\" >0.315285</td>\n",
       "                        <td id=\"T_577b6fff_9da4_11eb_9ea0_409f383a27f6row7_col7\" class=\"data row7 col7\" >1.000000</td>\n",
       "            </tr>\n",
       "    </tbody></table>"
      ],
      "text/plain": [
       "<pandas.io.formats.style.Styler at 0x2309032dfa0>"
      ]
     },
     "execution_count": 327,
     "metadata": {},
     "output_type": "execute_result"
    }
   ],
   "source": [
    "test.corr().style.background_gradient()"
   ]
  },
  {
   "cell_type": "markdown",
   "metadata": {},
   "source": [
    "## Ahora vamos a entrenar el modelo para poder predecir si los pasajeros de ciertas caracteristica debieron morir o no "
   ]
  },
  {
   "cell_type": "code",
   "execution_count": 328,
   "metadata": {
    "scrolled": false
   },
   "outputs": [
    {
     "data": {
      "text/plain": [
       "PassengerId    False\n",
       "Pclass         False\n",
       "Sex            False\n",
       "Age            False\n",
       "SibSp          False\n",
       "Parch          False\n",
       "Fare           False\n",
       "Embarked       False\n",
       "dtype: bool"
      ]
     },
     "execution_count": 328,
     "metadata": {},
     "output_type": "execute_result"
    }
   ],
   "source": [
    "test.isnull().any()"
   ]
  },
  {
   "cell_type": "code",
   "execution_count": 329,
   "metadata": {
    "scrolled": true
   },
   "outputs": [
    {
     "data": {
      "text/html": [
       "<div>\n",
       "<style scoped>\n",
       "    .dataframe tbody tr th:only-of-type {\n",
       "        vertical-align: middle;\n",
       "    }\n",
       "\n",
       "    .dataframe tbody tr th {\n",
       "        vertical-align: top;\n",
       "    }\n",
       "\n",
       "    .dataframe thead th {\n",
       "        text-align: right;\n",
       "    }\n",
       "</style>\n",
       "<table border=\"1\" class=\"dataframe\">\n",
       "  <thead>\n",
       "    <tr style=\"text-align: right;\">\n",
       "      <th></th>\n",
       "      <th>Survived</th>\n",
       "      <th>Pclass</th>\n",
       "      <th>Sex</th>\n",
       "      <th>Age</th>\n",
       "      <th>SibSp</th>\n",
       "      <th>Parch</th>\n",
       "      <th>Fare</th>\n",
       "      <th>Embarked</th>\n",
       "    </tr>\n",
       "  </thead>\n",
       "  <tbody>\n",
       "    <tr>\n",
       "      <th>0</th>\n",
       "      <td>0</td>\n",
       "      <td>3</td>\n",
       "      <td>1</td>\n",
       "      <td>22.0</td>\n",
       "      <td>1</td>\n",
       "      <td>0</td>\n",
       "      <td>7.2500</td>\n",
       "      <td>1.0</td>\n",
       "    </tr>\n",
       "    <tr>\n",
       "      <th>1</th>\n",
       "      <td>1</td>\n",
       "      <td>1</td>\n",
       "      <td>0</td>\n",
       "      <td>38.0</td>\n",
       "      <td>1</td>\n",
       "      <td>0</td>\n",
       "      <td>71.2833</td>\n",
       "      <td>2.0</td>\n",
       "    </tr>\n",
       "    <tr>\n",
       "      <th>2</th>\n",
       "      <td>1</td>\n",
       "      <td>3</td>\n",
       "      <td>0</td>\n",
       "      <td>26.0</td>\n",
       "      <td>0</td>\n",
       "      <td>0</td>\n",
       "      <td>7.9250</td>\n",
       "      <td>1.0</td>\n",
       "    </tr>\n",
       "    <tr>\n",
       "      <th>3</th>\n",
       "      <td>1</td>\n",
       "      <td>1</td>\n",
       "      <td>0</td>\n",
       "      <td>35.0</td>\n",
       "      <td>1</td>\n",
       "      <td>0</td>\n",
       "      <td>53.1000</td>\n",
       "      <td>1.0</td>\n",
       "    </tr>\n",
       "    <tr>\n",
       "      <th>4</th>\n",
       "      <td>0</td>\n",
       "      <td>3</td>\n",
       "      <td>1</td>\n",
       "      <td>35.0</td>\n",
       "      <td>0</td>\n",
       "      <td>0</td>\n",
       "      <td>8.0500</td>\n",
       "      <td>1.0</td>\n",
       "    </tr>\n",
       "  </tbody>\n",
       "</table>\n",
       "</div>"
      ],
      "text/plain": [
       "   Survived  Pclass  Sex   Age  SibSp  Parch     Fare  Embarked\n",
       "0         0       3    1  22.0      1      0   7.2500       1.0\n",
       "1         1       1    0  38.0      1      0  71.2833       2.0\n",
       "2         1       3    0  26.0      0      0   7.9250       1.0\n",
       "3         1       1    0  35.0      1      0  53.1000       1.0\n",
       "4         0       3    1  35.0      0      0   8.0500       1.0"
      ]
     },
     "execution_count": 329,
     "metadata": {},
     "output_type": "execute_result"
    }
   ],
   "source": [
    "train.head()"
   ]
  },
  {
   "cell_type": "code",
   "execution_count": 330,
   "metadata": {
    "scrolled": true
   },
   "outputs": [
    {
     "name": "stdout",
     "output_type": "stream",
     "text": [
      "<class 'pandas.core.frame.DataFrame'>\n",
      "RangeIndex: 418 entries, 0 to 417\n",
      "Data columns (total 8 columns):\n",
      " #   Column       Non-Null Count  Dtype  \n",
      "---  ------       --------------  -----  \n",
      " 0   PassengerId  418 non-null    int64  \n",
      " 1   Pclass       418 non-null    int64  \n",
      " 2   Sex          418 non-null    int64  \n",
      " 3   Age          418 non-null    float64\n",
      " 4   SibSp        418 non-null    int64  \n",
      " 5   Parch        418 non-null    int64  \n",
      " 6   Fare         418 non-null    float64\n",
      " 7   Embarked     418 non-null    int64  \n",
      "dtypes: float64(2), int64(6)\n",
      "memory usage: 26.2 KB\n"
     ]
    }
   ],
   "source": [
    "test.info()"
   ]
  },
  {
   "cell_type": "code",
   "execution_count": 331,
   "metadata": {},
   "outputs": [],
   "source": [
    "from sklearn.model_selection import train_test_split\n",
    "from sklearn.linear_model import LogisticRegression\n",
    "from sklearn.svm import SVC\n",
    "from sklearn.neighbors import KNeighborsClassifier\n",
    "from sklearn import *"
   ]
  },
  {
   "cell_type": "code",
   "execution_count": 332,
   "metadata": {
    "scrolled": true
   },
   "outputs": [],
   "source": [
    "#utilizaremos scitlearnk\n",
    "#aca separo en columna con la inforacion de los sobrevivientes\n",
    "X = np.array(train.drop(['Survived'], axis=1))\n",
    "Y = np.array(train['Survived'])"
   ]
  },
  {
   "cell_type": "code",
   "execution_count": 333,
   "metadata": {},
   "outputs": [],
   "source": [
    "#Seperamos la data en entrenamiento y prueba\n",
    "X_train, X_test, Y_train, Y_test = train_test_split(X,Y, test_size=0.2)"
   ]
  },
  {
   "cell_type": "code",
   "execution_count": 334,
   "metadata": {
    "scrolled": false
   },
   "outputs": [
    {
     "name": "stdout",
     "output_type": "stream",
     "text": [
      "Precisión Regresión Logística:\n",
      "0.8033707865168539\n"
     ]
    },
    {
     "name": "stderr",
     "output_type": "stream",
     "text": [
      "C:\\ProgramData\\Anaconda3\\lib\\site-packages\\sklearn\\linear_model\\_logistic.py:762: ConvergenceWarning: lbfgs failed to converge (status=1):\n",
      "STOP: TOTAL NO. of ITERATIONS REACHED LIMIT.\n",
      "\n",
      "Increase the number of iterations (max_iter) or scale the data as shown in:\n",
      "    https://scikit-learn.org/stable/modules/preprocessing.html\n",
      "Please also refer to the documentation for alternative solver options:\n",
      "    https://scikit-learn.org/stable/modules/linear_model.html#logistic-regression\n",
      "  n_iter_i = _check_optimize_result(\n"
     ]
    }
   ],
   "source": [
    "#regresion logistica\n",
    "logreg = LogisticRegression()\n",
    "logreg.fit(X_train, Y_train)\n",
    "Y_pred = logreg.predict(X_test)\n",
    "print('Precisión Regresión Logística:')\n",
    "print(logreg.score(X_train, Y_train))"
   ]
  },
  {
   "cell_type": "code",
   "execution_count": 335,
   "metadata": {
    "scrolled": true
   },
   "outputs": [],
   "source": [
    "test_id = test['PassengerId']\n",
    "prediccion_logreg = logreg.predict(test.drop('PassengerId', axis=1))\n"
   ]
  },
  {
   "cell_type": "code",
   "execution_count": 337,
   "metadata": {
    "scrolled": true
   },
   "outputs": [
    {
     "name": "stdout",
     "output_type": "stream",
     "text": [
      "Predicción Regresión Logística:\n",
      "   PassengerId  Survived\n",
      "0          892         0\n",
      "1          893         0\n",
      "2          894         0\n",
      "3          895         0\n",
      "4          896         1\n",
      "5          897         0\n",
      "6          898         1\n",
      "7          899         0\n",
      "8          900         1\n",
      "9          901         0\n"
     ]
    }
   ],
   "source": [
    "out_logreg = pd.DataFrame({ 'PassengerId' : test_id, 'Survived': prediccion_logreg })\n",
    "print('Predicción Regresión Logística:')\n",
    "print(out_logreg.head(10))\n"
   ]
  },
  {
   "cell_type": "code",
   "execution_count": 339,
   "metadata": {},
   "outputs": [],
   "source": [
    "out_logreg.to_csv('Resultados_titanic_LG.csv', index= False)"
   ]
  },
  {
   "cell_type": "code",
   "execution_count": null,
   "metadata": {
    "scrolled": true
   },
   "outputs": [],
   "source": [
    "#MAQUINA VECTORES\n",
    "svc = SVC()\n",
    "svc.fit(X_train, Y_train)\n",
    "Y_pred = svc.predict(X_test)\n",
    "print('Precisión Soporte de Vectores:')\n",
    "print(svc.score(X_train, Y_train))"
   ]
  },
  {
   "cell_type": "code",
   "execution_count": null,
   "metadata": {
    "scrolled": true
   },
   "outputs": [],
   "source": [
    "prediccion_svc = svc.predict(train.drop('PassengerId', axis=1))\n",
    "out_svc = pd.DataFrame({ 'PassengerId' : id, 'Survived': prediccion_svc })\n",
    "print('Predicción Soporte de Vectores:')\n",
    "print(out_svc.head())"
   ]
  },
  {
   "cell_type": "code",
   "execution_count": null,
   "metadata": {
    "scrolled": true
   },
   "outputs": [],
   "source": [
    "#vecinos mas cercanos\n",
    "knn = KNeighborsClassifier(n_neighbors = 3)\n",
    "knn.fit(X_train, Y_train)\n",
    "Y_pred = knn.predict(X_test)\n",
    "print('Precisión Vecinos más Cercanos:')\n",
    "print(knn.score(X_train, Y_train))"
   ]
  },
  {
   "cell_type": "code",
   "execution_count": null,
   "metadata": {
    "scrolled": true
   },
   "outputs": [],
   "source": [
    "ids = train['PassengerId']\n",
    "prediccion_knn = knn.predict(train.drop('PassengerId', axis=1))\n",
    "out_knn = pd.DataFrame({ 'PassengerId' : id, 'Survived': prediccion_knn })\n",
    "print('Predicción Vecinos más Cercanos:')\n",
    "print(out_knn.head())"
   ]
  }
 ],
 "metadata": {
  "kernelspec": {
   "display_name": "Python 3",
   "language": "python",
   "name": "python3"
  },
  "language_info": {
   "codemirror_mode": {
    "name": "ipython",
    "version": 3
   },
   "file_extension": ".py",
   "mimetype": "text/x-python",
   "name": "python",
   "nbconvert_exporter": "python",
   "pygments_lexer": "ipython3",
   "version": "3.8.5"
  }
 },
 "nbformat": 4,
 "nbformat_minor": 4
}
